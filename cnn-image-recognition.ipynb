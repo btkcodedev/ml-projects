{
  "nbformat": 4,
  "nbformat_minor": 0,
  "metadata": {
    "colab": {
      "name": "cnn image recognition.ipynb",
      "provenance": [],
      "authorship_tag": "ABX9TyN1hHTJFXxfpX/BEh0PGdYT",
      "include_colab_link": true
    },
    "kernelspec": {
      "name": "python3",
      "display_name": "Python 3"
    },
    "language_info": {
      "name": "python"
    },
    "accelerator": "GPU"
  },
  "cells": [
    {
      "cell_type": "markdown",
      "metadata": {
        "id": "view-in-github",
        "colab_type": "text"
      },
      "source": [
        "<a href=\"https://colab.research.google.com/github/btkcodedev/ml-projects/blob/main/cnn-image-recognition.ipynb\" target=\"_parent\"><img src=\"https://colab.research.google.com/assets/colab-badge.svg\" alt=\"Open In Colab\"/></a>"
      ]
    },
    {
      "cell_type": "markdown",
      "metadata": {
        "id": "Z_QjFpNE5i0j"
      },
      "source": [
        "- Tasks\n",
        " - Download the dataset and visualize the images\n",
        " - Change the label to one-hot encodings\n",
        " - Scale the image pixel values to take between 0 and 1"
      ]
    },
    {
      "cell_type": "markdown",
      "metadata": {
        "id": "oB7aTkkT5XOl"
      },
      "source": [
        "- CIFAR-10 dataset\n",
        "  - Images to be recognized: Tiny images of 32 * 32 pixels\n",
        "  - Labels: 10 possible labels (airplane, automobile, bird, cat, deer, dog, frog, horse, ship, and truck)\n",
        "  - Dataset size: 60000 images, split into 50000 for training and 10000 for testing"
      ]
    },
    {
      "cell_type": "code",
      "metadata": {
        "id": "PiFN6s7M5Kwr"
      },
      "source": [
        "from keras.datasets import cifar10"
      ],
      "execution_count": 1,
      "outputs": []
    },
    {
      "cell_type": "code",
      "metadata": {
        "colab": {
          "base_uri": "https://localhost:8080/"
        },
        "id": "cVaj99Gn5OP_",
        "outputId": "5529a0a3-be25-4e18-f770-3e41778f8022"
      },
      "source": [
        "(xtrain,ytrain),(xtest,ytest) = cifar10.load_data()"
      ],
      "execution_count": 2,
      "outputs": [
        {
          "output_type": "stream",
          "name": "stdout",
          "text": [
            "Downloading data from https://www.cs.toronto.edu/~kriz/cifar-10-python.tar.gz\n",
            "170500096/170498071 [==============================] - 2s 0us/step\n",
            "170508288/170498071 [==============================] - 2s 0us/step\n"
          ]
        }
      ]
    },
    {
      "cell_type": "code",
      "metadata": {
        "colab": {
          "base_uri": "https://localhost:8080/"
        },
        "id": "NyDLYD9r592w",
        "outputId": "b339f1e7-e1c2-4b5c-ac81-895081d7f92a"
      },
      "source": [
        "print(xtrain.shape, ytrain.shape)\n",
        "# 50000 images\n",
        "# 32 pixels in height\n",
        "# 32 pixels in width\n",
        "# 3 pixels in depth (corresponding to Red, Green and Blue)\n",
        "\n",
        "# 50000 images\n",
        "# 1 label consist of 10 options total"
      ],
      "execution_count": 3,
      "outputs": [
        {
          "output_type": "stream",
          "name": "stdout",
          "text": [
            "(50000, 32, 32, 3) (50000, 1)\n"
          ]
        }
      ]
    },
    {
      "cell_type": "code",
      "metadata": {
        "colab": {
          "base_uri": "https://localhost:8080/"
        },
        "id": "dme-SLL5-bv-",
        "outputId": "df9ee2d8-638e-451f-dfab-e15244f61c7f"
      },
      "source": [
        "print(xtest.shape, ytest.shape)"
      ],
      "execution_count": 4,
      "outputs": [
        {
          "output_type": "stream",
          "name": "stdout",
          "text": [
            "(10000, 32, 32, 3) (10000, 1)\n"
          ]
        }
      ]
    },
    {
      "cell_type": "code",
      "metadata": {
        "colab": {
          "base_uri": "https://localhost:8080/"
        },
        "id": "494vo1Bc6II1",
        "outputId": "407bc074-1ef2-4fea-b87e-3249b96f0162"
      },
      "source": [
        "xtrain[0] # Machine readable format of image"
      ],
      "execution_count": 5,
      "outputs": [
        {
          "output_type": "execute_result",
          "data": {
            "text/plain": [
              "array([[[ 59,  62,  63],\n",
              "        [ 43,  46,  45],\n",
              "        [ 50,  48,  43],\n",
              "        ...,\n",
              "        [158, 132, 108],\n",
              "        [152, 125, 102],\n",
              "        [148, 124, 103]],\n",
              "\n",
              "       [[ 16,  20,  20],\n",
              "        [  0,   0,   0],\n",
              "        [ 18,   8,   0],\n",
              "        ...,\n",
              "        [123,  88,  55],\n",
              "        [119,  83,  50],\n",
              "        [122,  87,  57]],\n",
              "\n",
              "       [[ 25,  24,  21],\n",
              "        [ 16,   7,   0],\n",
              "        [ 49,  27,   8],\n",
              "        ...,\n",
              "        [118,  84,  50],\n",
              "        [120,  84,  50],\n",
              "        [109,  73,  42]],\n",
              "\n",
              "       ...,\n",
              "\n",
              "       [[208, 170,  96],\n",
              "        [201, 153,  34],\n",
              "        [198, 161,  26],\n",
              "        ...,\n",
              "        [160, 133,  70],\n",
              "        [ 56,  31,   7],\n",
              "        [ 53,  34,  20]],\n",
              "\n",
              "       [[180, 139,  96],\n",
              "        [173, 123,  42],\n",
              "        [186, 144,  30],\n",
              "        ...,\n",
              "        [184, 148,  94],\n",
              "        [ 97,  62,  34],\n",
              "        [ 83,  53,  34]],\n",
              "\n",
              "       [[177, 144, 116],\n",
              "        [168, 129,  94],\n",
              "        [179, 142,  87],\n",
              "        ...,\n",
              "        [216, 184, 140],\n",
              "        [151, 118,  84],\n",
              "        [123,  92,  72]]], dtype=uint8)"
            ]
          },
          "metadata": {},
          "execution_count": 5
        }
      ]
    },
    {
      "cell_type": "code",
      "metadata": {
        "id": "TJ4Ztaxe6r5_"
      },
      "source": [
        "import matplotlib.pyplot as plt\n",
        "%matplotlib inline \n",
        "# %matplotlib inline tells the notebook about wishing for the image to display within the image"
      ],
      "execution_count": 6,
      "outputs": []
    },
    {
      "cell_type": "code",
      "metadata": {
        "colab": {
          "base_uri": "https://localhost:8080/",
          "height": 336
        },
        "id": "_oMkTrPr637d",
        "outputId": "d9746121-507f-4ccd-ee68-55bf348a14e7"
      },
      "source": [
        "img = plt.imshow(xtrain[0])\n",
        "plt.xlabel(ytrain[0])\n",
        "plt.show()"
      ],
      "execution_count": 7,
      "outputs": [
        {
          "output_type": "stream",
          "name": "stderr",
          "text": [
            "/usr/local/lib/python3.7/dist-packages/matplotlib/text.py:1165: FutureWarning: elementwise comparison failed; returning scalar instead, but in the future will perform elementwise comparison\n",
            "  if s != self._text:\n"
          ]
        },
        {
          "output_type": "display_data",
          "data": {
            "image/png": "[encoded data removed]",
            "text/plain": [
              "<Figure size 432x288 with 1 Axes>"
            ]
          },
          "metadata": {
            "needs_background": "light"
          }
        }
      ]
    },
    {
      "cell_type": "code",
      "metadata": {
        "colab": {
          "base_uri": "https://localhost:8080/",
          "height": 266
        },
        "id": "xaTaqErQ7Uzt",
        "outputId": "3436883e-47fd-49d0-b8ca-737c9d84962e"
      },
      "source": [
        "img2 = plt.imshow(xtrain[1])"
      ],
      "execution_count": 8,
      "outputs": [
        {
          "output_type": "display_data",
          "data": {
            "image/png": "[encoded data removed]",
            "text/plain": [
              "<Figure size 432x288 with 1 Axes>"
            ]
          },
          "metadata": {
            "needs_background": "light"
          }
        }
      ]
    },
    {
      "cell_type": "code",
      "metadata": {
        "id": "5LJvh6HH7iwS"
      },
      "source": [
        "# Preprocessing of Labels\n",
        "\n",
        "# Usage of one-hot-encoding\n",
        "# we need probability of those 10 classes\n",
        "# For 10 class labels, we need 10 output neurons\n",
        "# So for matching each of 10 neurons we need to uniquely identify label\n",
        "import keras"
      ],
      "execution_count": 9,
      "outputs": []
    },
    {
      "cell_type": "code",
      "metadata": {
        "id": "gwGsGC4W-G-v"
      },
      "source": [
        "from keras.utils import np_utils as npu\n",
        "ytrainonehot = npu.to_categorical(ytrain, 10)\n",
        "ytestonehot = npu.to_categorical(ytest, 10)"
      ],
      "execution_count": 10,
      "outputs": []
    },
    {
      "cell_type": "code",
      "metadata": {
        "colab": {
          "base_uri": "https://localhost:8080/"
        },
        "id": "pOsw9b4K-jMv",
        "outputId": "7a4a5f44-ca9b-454d-f2e0-cdbe0b4eaf1f"
      },
      "source": [
        "print(ytrainonehot[0])  #Instead of 6 in ytrain[0] "
      ],
      "execution_count": 11,
      "outputs": [
        {
          "output_type": "stream",
          "name": "stdout",
          "text": [
            "[0. 0. 0. 0. 0. 0. 1. 0. 0. 0.]\n"
          ]
        }
      ]
    },
    {
      "cell_type": "code",
      "metadata": {
        "id": "arGbDpdn_KJR"
      },
      "source": [
        "#Preprocessing of images to make it around 0-1\n",
        "# As pixel already take the values between 0 and 255, we simply need to divide by 255.\n",
        "\n",
        "xtrain = xtrain.astype('float32') # for ensuring decimal points\n",
        "xtest = xtest.astype('float32')\n",
        "xtrain = xtrain/255\n",
        "xtest = xtest/255"
      ],
      "execution_count": 12,
      "outputs": []
    },
    {
      "cell_type": "code",
      "metadata": {
        "colab": {
          "base_uri": "https://localhost:8080/"
        },
        "id": "fK_4eH3UAuEw",
        "outputId": "a7e655b7-ec9b-49d7-eee1-84c2ca071cc4"
      },
      "source": [
        "xtrain[0]"
      ],
      "execution_count": 13,
      "outputs": [
        {
          "output_type": "execute_result",
          "data": {
            "text/plain": [
              "array([[[0.23137255, 0.24313726, 0.24705882],\n",
              "        [0.16862746, 0.18039216, 0.1764706 ],\n",
              "        [0.19607843, 0.1882353 , 0.16862746],\n",
              "        ...,\n",
              "        [0.61960787, 0.5176471 , 0.42352942],\n",
              "        [0.59607846, 0.49019608, 0.4       ],\n",
              "        [0.5803922 , 0.4862745 , 0.40392157]],\n",
              "\n",
              "       [[0.0627451 , 0.07843138, 0.07843138],\n",
              "        [0.        , 0.        , 0.        ],\n",
              "        [0.07058824, 0.03137255, 0.        ],\n",
              "        ...,\n",
              "        [0.48235294, 0.34509805, 0.21568628],\n",
              "        [0.46666667, 0.3254902 , 0.19607843],\n",
              "        [0.47843137, 0.34117648, 0.22352941]],\n",
              "\n",
              "       [[0.09803922, 0.09411765, 0.08235294],\n",
              "        [0.0627451 , 0.02745098, 0.        ],\n",
              "        [0.19215687, 0.10588235, 0.03137255],\n",
              "        ...,\n",
              "        [0.4627451 , 0.32941177, 0.19607843],\n",
              "        [0.47058824, 0.32941177, 0.19607843],\n",
              "        [0.42745098, 0.28627452, 0.16470589]],\n",
              "\n",
              "       ...,\n",
              "\n",
              "       [[0.8156863 , 0.6666667 , 0.3764706 ],\n",
              "        [0.7882353 , 0.6       , 0.13333334],\n",
              "        [0.7764706 , 0.6313726 , 0.10196079],\n",
              "        ...,\n",
              "        [0.627451  , 0.52156866, 0.27450982],\n",
              "        [0.21960784, 0.12156863, 0.02745098],\n",
              "        [0.20784314, 0.13333334, 0.07843138]],\n",
              "\n",
              "       [[0.7058824 , 0.54509807, 0.3764706 ],\n",
              "        [0.6784314 , 0.48235294, 0.16470589],\n",
              "        [0.7294118 , 0.5647059 , 0.11764706],\n",
              "        ...,\n",
              "        [0.72156864, 0.5803922 , 0.36862746],\n",
              "        [0.38039216, 0.24313726, 0.13333334],\n",
              "        [0.3254902 , 0.20784314, 0.13333334]],\n",
              "\n",
              "       [[0.69411767, 0.5647059 , 0.45490196],\n",
              "        [0.65882355, 0.5058824 , 0.36862746],\n",
              "        [0.7019608 , 0.5568628 , 0.34117648],\n",
              "        ...,\n",
              "        [0.84705883, 0.72156864, 0.54901963],\n",
              "        [0.5921569 , 0.4627451 , 0.32941177],\n",
              "        [0.48235294, 0.36078432, 0.28235295]]], dtype=float32)"
            ]
          },
          "metadata": {},
          "execution_count": 13
        }
      ]
    },
    {
      "cell_type": "markdown",
      "metadata": {
        "id": "tKXngkeODBxh"
      },
      "source": [
        "# CNN Architecture\n",
        "![image](https://miro.medium.com/max/2000/1*b4neYlVytzv5lfGmHAcqTQ.png)"
      ]
    },
    {
      "cell_type": "markdown",
      "metadata": {
        "id": "DVP5oB3mDtPG"
      },
      "source": [
        "Zero Padding(also known as same padding) the layers are neccesary as it provides the dimensions of input and output images to be equal (32%3 = 2: so we need +1 to make it fully divisible)"
      ]
    },
    {
      "cell_type": "code",
      "metadata": {
        "id": "ihfRZwx1A2mg"
      },
      "source": [
        "from keras.models import Sequential\n",
        "from keras.layers import Dense, MaxPooling2D, Dropout, Flatten, Conv2D"
      ],
      "execution_count": 14,
      "outputs": []
    },
    {
      "cell_type": "code",
      "metadata": {
        "id": "KG-KN6G_G2j8"
      },
      "source": [
        "model = Sequential()"
      ],
      "execution_count": 15,
      "outputs": []
    },
    {
      "cell_type": "code",
      "metadata": {
        "id": "Ggsk9cAgG7Gx"
      },
      "source": [
        "#First Layer\n",
        "model.add(\n",
        "    Conv2D(\n",
        "        32,                   #Depth\n",
        "        (3,3),                #Filter width, height\n",
        "        activation='relu',    #activation\n",
        "        padding='same',       #zero padding\n",
        "        input_shape=(32,32,3))\n",
        ")"
      ],
      "execution_count": 16,
      "outputs": []
    },
    {
      "cell_type": "code",
      "metadata": {
        "id": "_gv2NRZMKOyO"
      },
      "source": [
        "#Second Layer:: No input required\n",
        "model.add(Conv2D(32, (3, 3), activation='relu', padding='same'))"
      ],
      "execution_count": 17,
      "outputs": []
    },
    {
      "cell_type": "code",
      "metadata": {
        "id": "MfplT-O4LdF5"
      },
      "source": [
        "#Third Layer\n",
        "model.add(\n",
        "    MaxPooling2D(pool_size=(2,2))\n",
        ")"
      ],
      "execution_count": 18,
      "outputs": []
    },
    {
      "cell_type": "code",
      "metadata": {
        "id": "eoZWA4V8LBGS"
      },
      "source": [
        "#Fourth layer:: Dropout with probability 0.25\n",
        "model.add(Dropout(0.25))"
      ],
      "execution_count": 19,
      "outputs": []
    },
    {
      "cell_type": "code",
      "metadata": {
        "id": "MrSYenQPLFg4"
      },
      "source": [
        "#Next Four Layers\n",
        "model.add(Conv2D(64, (3, 3), activation='relu', padding='same'))\n",
        "model.add(Conv2D(64, (3, 3), activation='relu', padding='same'))\n",
        "model.add(MaxPooling2D(pool_size=(2, 2)))\n",
        "model.add(Dropout(0.25))"
      ],
      "execution_count": 20,
      "outputs": []
    },
    {
      "cell_type": "code",
      "metadata": {
        "id": "lhNCWcFQLw02"
      },
      "source": [
        "# Nineth layer:: FC:: Prerequisite\n",
        "# Our neurons are spatially arranged in a cube-like format rather than in just one row. \n",
        "# To make this cube-like format of neurons into one row, we have to first flatten it\n",
        "model.add(Flatten())"
      ],
      "execution_count": 21,
      "outputs": []
    },
    {
      "cell_type": "code",
      "metadata": {
        "id": "oar1SlffMG7Z"
      },
      "source": [
        "#Nineth Layer:: FC\n",
        "model.add(Sequential(Dense(512, activation='relu')))"
      ],
      "execution_count": 22,
      "outputs": []
    },
    {
      "cell_type": "code",
      "metadata": {
        "id": "7Sra1tfdMYKc"
      },
      "source": [
        "#Tenth Layer:: DropOut\n",
        "model.add(Dropout(0.5))"
      ],
      "execution_count": 23,
      "outputs": []
    },
    {
      "cell_type": "code",
      "metadata": {
        "id": "gOBNXukHMmWc"
      },
      "source": [
        "#Eleventh + Twevelth Layer:: FC + Softmax\n",
        "model.add(Dense(10, activation=\"softmax\"))"
      ],
      "execution_count": 24,
      "outputs": []
    },
    {
      "cell_type": "code",
      "metadata": {
        "colab": {
          "base_uri": "https://localhost:8080/"
        },
        "id": "KEa5KTGuM79X",
        "outputId": "3fe67e60-7d8a-4f4f-b9e8-6b85b06b054a"
      },
      "source": [
        "model.summary()"
      ],
      "execution_count": 25,
      "outputs": [
        {
          "output_type": "stream",
          "name": "stdout",
          "text": [
            "Model: \"sequential\"\n",
            "_________________________________________________________________\n",
            "Layer (type)                 Output Shape              Param #   \n",
            "=================================================================\n",
            "conv2d (Conv2D)              (None, 32, 32, 32)        896       \n",
            "_________________________________________________________________\n",
            "conv2d_1 (Conv2D)            (None, 32, 32, 32)        9248      \n",
            "_________________________________________________________________\n",
            "max_pooling2d (MaxPooling2D) (None, 16, 16, 32)        0         \n",
            "_________________________________________________________________\n",
            "dropout (Dropout)            (None, 16, 16, 32)        0         \n",
            "_________________________________________________________________\n",
            "conv2d_2 (Conv2D)            (None, 16, 16, 64)        18496     \n",
            "_________________________________________________________________\n",
            "conv2d_3 (Conv2D)            (None, 16, 16, 64)        36928     \n",
            "_________________________________________________________________\n",
            "max_pooling2d_1 (MaxPooling2 (None, 8, 8, 64)          0         \n",
            "_________________________________________________________________\n",
            "dropout_1 (Dropout)          (None, 8, 8, 64)          0         \n",
            "_________________________________________________________________\n",
            "flatten (Flatten)            (None, 4096)              0         \n",
            "_________________________________________________________________\n",
            "sequential_1 (Sequential)    (None, 512)               2097664   \n",
            "_________________________________________________________________\n",
            "dropout_2 (Dropout)          (None, 512)               0         \n",
            "_________________________________________________________________\n",
            "dense_1 (Dense)              (None, 10)                5130      \n",
            "=================================================================\n",
            "Total params: 2,168,362\n",
            "Trainable params: 2,168,362\n",
            "Non-trainable params: 0\n",
            "_________________________________________________________________\n"
          ]
        }
      ]
    },
    {
      "cell_type": "code",
      "metadata": {
        "id": "PyK3-FmeM91l"
      },
      "source": [
        "model.compile(\n",
        "    loss = \"categorical_crossentropy\", #Used mainly for classification problems\n",
        "    optimizer = \"adam\",  #Adam is simply a type of stochastic gradient descent\n",
        "    metrics = ['accuracy']\n",
        ")"
      ],
      "execution_count": 26,
      "outputs": []
    },
    {
      "cell_type": "code",
      "metadata": {
        "colab": {
          "base_uri": "https://localhost:8080/"
        },
        "id": "5xjsNVO0NUXr",
        "outputId": "f641a623-6d12-44a4-94ef-686d86698413"
      },
      "source": [
        "hist = model.fit(xtrain, ytrainonehot, \n",
        "           batch_size=32, epochs=20, \n",
        "           validation_split= 0.2)\n",
        "#20% of training dataset is used for validation"
      ],
      "execution_count": 27,
      "outputs": [
        {
          "output_type": "stream",
          "name": "stdout",
          "text": [
            "Epoch 1/20\n",
            "1250/1250 [==============================] - 51s 17ms/step - loss: 1.5462 - accuracy: 0.4341 - val_loss: 1.1620 - val_accuracy: 0.5870\n",
            "Epoch 2/20\n",
            "1250/1250 [==============================] - 20s 16ms/step - loss: 1.1190 - accuracy: 0.6001 - val_loss: 0.9245 - val_accuracy: 0.6698\n",
            "Epoch 3/20\n",
            "1250/1250 [==============================] - 19s 16ms/step - loss: 0.9559 - accuracy: 0.6617 - val_loss: 0.8948 - val_accuracy: 0.6867\n",
            "Epoch 4/20\n",
            "1250/1250 [==============================] - 19s 15ms/step - loss: 0.8561 - accuracy: 0.6994 - val_loss: 0.7628 - val_accuracy: 0.7340\n",
            "Epoch 5/20\n",
            "1250/1250 [==============================] - 19s 15ms/step - loss: 0.7869 - accuracy: 0.7223 - val_loss: 0.7625 - val_accuracy: 0.7333\n",
            "Epoch 6/20\n",
            "1250/1250 [==============================] - 19s 15ms/step - loss: 0.7279 - accuracy: 0.7440 - val_loss: 0.7214 - val_accuracy: 0.7502\n",
            "Epoch 7/20\n",
            "1250/1250 [==============================] - 19s 15ms/step - loss: 0.6829 - accuracy: 0.7592 - val_loss: 0.6827 - val_accuracy: 0.7652\n",
            "Epoch 8/20\n",
            "1250/1250 [==============================] - 19s 15ms/step - loss: 0.6430 - accuracy: 0.7717 - val_loss: 0.7067 - val_accuracy: 0.7602\n",
            "Epoch 9/20\n",
            "1250/1250 [==============================] - 18s 15ms/step - loss: 0.6112 - accuracy: 0.7854 - val_loss: 0.7213 - val_accuracy: 0.7526\n",
            "Epoch 10/20\n",
            "1250/1250 [==============================] - 18s 15ms/step - loss: 0.5826 - accuracy: 0.7943 - val_loss: 0.6909 - val_accuracy: 0.7700\n",
            "Epoch 11/20\n",
            "1250/1250 [==============================] - 18s 15ms/step - loss: 0.5515 - accuracy: 0.8059 - val_loss: 0.6653 - val_accuracy: 0.7774\n",
            "Epoch 12/20\n",
            "1250/1250 [==============================] - 18s 15ms/step - loss: 0.5222 - accuracy: 0.8152 - val_loss: 0.6749 - val_accuracy: 0.7807\n",
            "Epoch 13/20\n",
            "1250/1250 [==============================] - 18s 15ms/step - loss: 0.5094 - accuracy: 0.8207 - val_loss: 0.6926 - val_accuracy: 0.7705\n",
            "Epoch 14/20\n",
            "1250/1250 [==============================] - 18s 15ms/step - loss: 0.4872 - accuracy: 0.8276 - val_loss: 0.6700 - val_accuracy: 0.7791\n",
            "Epoch 15/20\n",
            "1250/1250 [==============================] - 19s 15ms/step - loss: 0.4691 - accuracy: 0.8346 - val_loss: 0.6723 - val_accuracy: 0.7828\n",
            "Epoch 16/20\n",
            "1250/1250 [==============================] - 19s 15ms/step - loss: 0.4534 - accuracy: 0.8373 - val_loss: 0.6985 - val_accuracy: 0.7791\n",
            "Epoch 17/20\n",
            "1250/1250 [==============================] - 19s 15ms/step - loss: 0.4268 - accuracy: 0.8494 - val_loss: 0.7245 - val_accuracy: 0.7772\n",
            "Epoch 18/20\n",
            "1250/1250 [==============================] - 19s 15ms/step - loss: 0.4251 - accuracy: 0.8495 - val_loss: 0.6806 - val_accuracy: 0.7823\n",
            "Epoch 19/20\n",
            "1250/1250 [==============================] - 19s 15ms/step - loss: 0.4131 - accuracy: 0.8546 - val_loss: 0.6700 - val_accuracy: 0.7870\n",
            "Epoch 20/20\n",
            "1250/1250 [==============================] - 19s 15ms/step - loss: 0.4069 - accuracy: 0.8572 - val_loss: 0.6803 - val_accuracy: 0.7832\n"
          ]
        }
      ]
    },
    {
      "cell_type": "code",
      "metadata": {
        "colab": {
          "base_uri": "https://localhost:8080/",
          "height": 295
        },
        "id": "fMQt20IdN4ui",
        "outputId": "974f8ed5-1e3b-4395-c0e5-2960ebbc93b9"
      },
      "source": [
        "plt.plot(hist.history['loss'])\n",
        "plt.plot(hist.history['val_loss'])\n",
        "plt.title('Model loss')\n",
        "plt.ylabel('Loss')\n",
        "plt.xlabel('Epoch')\n",
        "plt.legend(['Train', 'Val'], loc='upper right')\n",
        "plt.show()"
      ],
      "execution_count": 28,
      "outputs": [
        {
          "output_type": "display_data",
          "data": {
            "image/png": "[encoded data removed]",
            "text/plain": [
              "<Figure size 432x288 with 1 Axes>"
            ]
          },
          "metadata": {
            "needs_background": "light"
          }
        }
      ]
    },
    {
      "cell_type": "code",
      "metadata": {
        "colab": {
          "base_uri": "https://localhost:8080/",
          "height": 295
        },
        "id": "d18B3NozgGIw",
        "outputId": "895c2aa3-8cb6-4f90-e392-697379d48772"
      },
      "source": [
        "plt.plot(hist.history['accuracy'])\n",
        "plt.plot(hist.history['val_accuracy'])\n",
        "plt.title('Model Accuracy')\n",
        "plt.ylabel('Accuracy')\n",
        "plt.xlabel('Epoch')\n",
        "plt.legend(['Train', 'Val'], loc='upper right')\n",
        "plt.show()"
      ],
      "execution_count": 29,
      "outputs": [
        {
          "output_type": "display_data",
          "data": {
            "image/png": "[encoded data removed]",
            "text/plain": [
              "<Figure size 432x288 with 1 Axes>"
            ]
          },
          "metadata": {
            "needs_background": "light"
          }
        }
      ]
    },
    {
      "cell_type": "code",
      "metadata": {
        "colab": {
          "base_uri": "https://localhost:8080/"
        },
        "id": "dJNp4Z_ZgTSv",
        "outputId": "d39eb71f-a037-410a-fd0c-69022f385ec4"
      },
      "source": [
        "model.evaluate(xtest,ytestonehot)"
      ],
      "execution_count": 30,
      "outputs": [
        {
          "output_type": "stream",
          "name": "stdout",
          "text": [
            "313/313 [==============================] - 2s 6ms/step - loss: 0.6897 - accuracy: 0.7780\n"
          ]
        },
        {
          "output_type": "execute_result",
          "data": {
            "text/plain": [
              "[0.6897390484809875, 0.777999997138977]"
            ]
          },
          "metadata": {},
          "execution_count": 30
        }
      ]
    },
    {
      "cell_type": "code",
      "metadata": {
        "id": "PNpZz4EVgaaj"
      },
      "source": [
        "model.save('1cifar10_model.h5') #model will be saved in a file format called HDF5"
      ],
      "execution_count": 31,
      "outputs": []
    },
    {
      "cell_type": "code",
      "metadata": {
        "colab": {
          "base_uri": "https://localhost:8080/"
        },
        "id": "rVDGz83bglHQ",
        "outputId": "db27e994-966c-4f75-d30b-49a202268fe4"
      },
      "source": [
        "model2 = Sequential()\n",
        "model2.add(\n",
        "    Conv2D(\n",
        "        32,                   #Depth\n",
        "        (3,3),                #Filter width, height\n",
        "        activation='relu',    #activation\n",
        "        padding='same',       #zero padding\n",
        "        input_shape=(32,32,3))\n",
        ")\n",
        "#Second Layer:: No input required\n",
        "model2.add(Conv2D(32, (3, 3), activation='relu', padding='same'))\n",
        "#Third Layer\n",
        "model2.add(\n",
        "    MaxPooling2D(pool_size=(2,2))\n",
        ")\n",
        "#Fourth layer:: Dropout with probability 0.25\n",
        "model2.add(Dropout(0.25))\n",
        "#Next Four Layers\n",
        "model2.add(Conv2D(64, (3, 3), activation='relu', padding='same'))\n",
        "model2.add(Conv2D(64, (3, 3), activation='relu', padding='same'))\n",
        "model2.add(MaxPooling2D(pool_size=(2, 2)))\n",
        "model2.add(Dropout(0.25))\n",
        "# Nineth layer:: FC:: Prerequisite\n",
        "# Our neurons are spatially arranged in a cube-like format rather than in just one row. \n",
        "# To make this cube-like format of neurons into one row, we have to first flatten it\n",
        "model2.add(Flatten())\n",
        "#Nineth Layer:: FC\n",
        "model2.add(Sequential(Dense(512, activation='relu')))\n",
        "#Tenth Layer:: DropOut\n",
        "model2.add(Dropout(0.5))\n",
        "#Eleventh + Twevelth Layer:: FC + Softmax\n",
        "model2.add(Dense(10, activation=\"softmax\"))\n",
        "\n",
        "\n",
        "\n",
        "\n",
        "\n",
        "\n",
        "model2.compile(\n",
        "    loss = \"categorical_crossentropy\", #Used mainly for classification problems\n",
        "    optimizer = \"adam\",  #Adam is simply a type of stochastic gradient descent\n",
        "    metrics = ['accuracy']\n",
        ")\n",
        "\n",
        "\n",
        "\n",
        "\n",
        "hist2 = model2.fit(xtrain, ytrainonehot, \n",
        "           batch_size=32, epochs=10, #Number of passess entire training dataset has been completed\n",
        "           validation_split= 0.2)"
      ],
      "execution_count": 51,
      "outputs": [
        {
          "output_type": "stream",
          "name": "stdout",
          "text": [
            "Epoch 1/10\n",
            "1250/1250 [==============================] - 22s 17ms/step - loss: 1.5476 - accuracy: 0.4353 - val_loss: 1.1557 - val_accuracy: 0.5880\n",
            "Epoch 2/10\n",
            "1250/1250 [==============================] - 20s 16ms/step - loss: 1.1291 - accuracy: 0.5985 - val_loss: 0.9773 - val_accuracy: 0.6503\n",
            "Epoch 3/10\n",
            "1250/1250 [==============================] - 19s 15ms/step - loss: 0.9686 - accuracy: 0.6579 - val_loss: 0.8840 - val_accuracy: 0.6858\n",
            "Epoch 4/10\n",
            "1250/1250 [==============================] - 19s 15ms/step - loss: 0.8719 - accuracy: 0.6934 - val_loss: 0.7988 - val_accuracy: 0.7197\n",
            "Epoch 5/10\n",
            "1250/1250 [==============================] - 19s 15ms/step - loss: 0.7957 - accuracy: 0.7222 - val_loss: 0.7637 - val_accuracy: 0.7340\n",
            "Epoch 6/10\n",
            "1250/1250 [==============================] - 19s 15ms/step - loss: 0.7388 - accuracy: 0.7411 - val_loss: 0.7527 - val_accuracy: 0.7359\n",
            "Epoch 7/10\n",
            "1250/1250 [==============================] - 19s 15ms/step - loss: 0.6910 - accuracy: 0.7562 - val_loss: 0.7271 - val_accuracy: 0.7509\n",
            "Epoch 8/10\n",
            "1250/1250 [==============================] - 18s 15ms/step - loss: 0.6472 - accuracy: 0.7729 - val_loss: 0.7013 - val_accuracy: 0.7627\n",
            "Epoch 9/10\n",
            "1250/1250 [==============================] - 18s 15ms/step - loss: 0.6154 - accuracy: 0.7847 - val_loss: 0.6966 - val_accuracy: 0.7608\n",
            "Epoch 10/10\n",
            "1250/1250 [==============================] - 18s 14ms/step - loss: 0.5805 - accuracy: 0.7942 - val_loss: 0.6648 - val_accuracy: 0.7731\n"
          ]
        }
      ]
    },
    {
      "cell_type": "code",
      "metadata": {
        "colab": {
          "base_uri": "https://localhost:8080/"
        },
        "id": "VdC7jgm2HayA",
        "outputId": "8b6de76b-73e5-43a1-f11d-819c0472762f"
      },
      "source": [
        "model2.evaluate(xtest,ytestonehot)"
      ],
      "execution_count": 72,
      "outputs": [
        {
          "output_type": "stream",
          "name": "stdout",
          "text": [
            "313/313 [==============================] - 2s 6ms/step - loss: 0.6897 - accuracy: 0.7674\n"
          ]
        },
        {
          "output_type": "execute_result",
          "data": {
            "text/plain": [
              "[0.6897116303443909, 0.7674000263214111]"
            ]
          },
          "metadata": {},
          "execution_count": 72
        }
      ]
    },
    {
      "cell_type": "code",
      "metadata": {
        "colab": {
          "base_uri": "https://localhost:8080/",
          "height": 295
        },
        "id": "OIDPJnmwhABc",
        "outputId": "d102b2b8-3d79-4c65-a5b8-dbd0e6019e2f"
      },
      "source": [
        "plt.plot(hist2.history['loss'])\n",
        "plt.plot(hist2.history['val_loss'])\n",
        "plt.title('Model loss')\n",
        "plt.ylabel('Loss')\n",
        "plt.xlabel('Epoch')\n",
        "plt.legend(['Train', 'Val'], loc='upper right')\n",
        "plt.show()"
      ],
      "execution_count": 73,
      "outputs": [
        {
          "output_type": "display_data",
          "data": {
            "image/png": "[encoded data removed]",
            "text/plain": [
              "<Figure size 432x288 with 1 Axes>"
            ]
          },
          "metadata": {
            "needs_background": "light"
          }
        }
      ]
    },
    {
      "cell_type": "code",
      "metadata": {
        "colab": {
          "base_uri": "https://localhost:8080/",
          "height": 295
        },
        "id": "Cz5cY5nFlRs9",
        "outputId": "f5c8fb5e-4f79-48c3-9838-cf6616ab7acd"
      },
      "source": [
        "plt.plot(hist2.history['accuracy'])\n",
        "plt.plot(hist2.history['val_accuracy'])\n",
        "plt.title('Model Accuracy')\n",
        "plt.ylabel('Accuracy')\n",
        "plt.xlabel('Epoch')\n",
        "plt.legend(['Train', 'Val'], loc='upper right')\n",
        "plt.show()"
      ],
      "execution_count": 74,
      "outputs": [
        {
          "output_type": "display_data",
          "data": {
            "image/png": "[encoded data removed]",
            "text/plain": [
              "<Figure size 432x288 with 1 Axes>"
            ]
          },
          "metadata": {
            "needs_background": "light"
          }
        }
      ]
    },
    {
      "cell_type": "code",
      "metadata": {
        "colab": {
          "base_uri": "https://localhost:8080/",
          "height": 266
        },
        "id": "3aXoeROoltcZ",
        "outputId": "971633ed-2a7e-4579-eb3b-3da1191553ae"
      },
      "source": [
        "my_image = plt.imread(\"/content/cat.png\")\n",
        "from skimage.transform import resize\n",
        "resized = resize(my_image,(32,32,3))\n",
        "image = plt.imshow(resized)"
      ],
      "execution_count": 75,
      "outputs": [
        {
          "output_type": "display_data",
          "data": {
            "image/png": "[encoded data removed]",
            "text/plain": [
              "<Figure size 432x288 with 1 Axes>"
            ]
          },
          "metadata": {
            "needs_background": "light"
          }
        }
      ]
    },
    {
      "cell_type": "code",
      "metadata": {
        "id": "--1FveS_mcSf"
      },
      "source": [
        "import numpy as np"
      ],
      "execution_count": 76,
      "outputs": []
    },
    {
      "cell_type": "code",
      "metadata": {
        "id": "mek2h_jbmfUZ"
      },
      "source": [
        "probabilities = model.predict(\n",
        "    np.array([resized, ])\n",
        "    )\n",
        "#model.predict expects a 4-D array instead of a 3-D array\n",
        "#np.array(...) code is there to change our current array of my_image_resized into a 4-D array \n",
        "#before applying the model.predict function."
      ],
      "execution_count": 77,
      "outputs": []
    },
    {
      "cell_type": "code",
      "metadata": {
        "colab": {
          "base_uri": "https://localhost:8080/"
        },
        "id": "icoT6mgym1sp",
        "outputId": "b9c909a5-b630-42e3-a5a5-60acc41c1a91"
      },
      "source": [
        "probabilities"
      ],
      "execution_count": 78,
      "outputs": [
        {
          "output_type": "execute_result",
          "data": {
            "text/plain": [
              "array([[0.02030825, 0.00180207, 0.00274953, 0.5945772 , 0.04064691,\n",
              "        0.06330916, 0.01720748, 0.21726166, 0.01481535, 0.02732233]],\n",
              "      dtype=float32)"
            ]
          },
          "metadata": {},
          "execution_count": 78
        }
      ]
    },
    {
      "cell_type": "code",
      "metadata": {
        "colab": {
          "base_uri": "https://localhost:8080/"
        },
        "id": "xQMdiS8-m5t9",
        "outputId": "1a9db451-6296-4be3-faaf-6cb6abcc05a5"
      },
      "source": [
        "number_to_class = ['airplane', 'automobile', 'bird', 'cat', 'deer', 'dog', 'frog', 'horse', 'ship', 'truck']\n",
        "index = np.argsort(probabilities[0,:])\n",
        "print(\"Most likely class:\", number_to_class[index[9]], \"-- Probability:\", probabilities[0,index[9]])\n",
        "print(\"Second most likely class:\", number_to_class[index[8]], \"-- Probability:\", probabilities[0,index[8]])\n",
        "print(\"Third most likely class:\", number_to_class[index[7]], \"-- Probability:\", probabilities[0,index[7]])\n",
        "print(\"Fourth most likely class:\", number_to_class[index[6]], \"-- Probability:\", probabilities[0,index[6]])\n",
        "print(\"Fifth most likely class:\", number_to_class[index[5]], \"-- Probability:\", probabilities[0,index[5]])"
      ],
      "execution_count": 79,
      "outputs": [
        {
          "output_type": "stream",
          "name": "stdout",
          "text": [
            "Most likely class: cat -- Probability: 0.5945772\n",
            "Second most likely class: horse -- Probability: 0.21726166\n",
            "Third most likely class: dog -- Probability: 0.06330916\n",
            "Fourth most likely class: deer -- Probability: 0.040646907\n",
            "Fifth most likely class: truck -- Probability: 0.027322328\n"
          ]
        }
      ]
    },
    {
      "cell_type": "code",
      "metadata": {
        "colab": {
          "base_uri": "https://localhost:8080/"
        },
        "id": "UiY2fmSGnBPt",
        "outputId": "89856218-9c90-4ffc-c259-c9bde87f2a8f"
      },
      "source": [
        "probabilities2 = model2.predict(\n",
        "    np.array([resized, ])\n",
        "    )\n",
        "probabilities2"
      ],
      "execution_count": 85,
      "outputs": [
        {
          "output_type": "execute_result",
          "data": {
            "text/plain": [
              "array([[5.3403061e-04, 1.1388100e-04, 6.3860500e-03, 2.3458794e-01,\n",
              "        1.9892299e-01, 4.0009025e-01, 2.1736661e-02, 1.3656318e-01,\n",
              "        4.6083113e-04, 6.0418126e-04]], dtype=float32)"
            ]
          },
          "metadata": {},
          "execution_count": 85
        }
      ]
    },
    {
      "cell_type": "code",
      "metadata": {
        "colab": {
          "base_uri": "https://localhost:8080/"
        },
        "id": "7lBVRfvHFU2D",
        "outputId": "a5242b25-ceed-4c93-da81-c2801fb2c88f"
      },
      "source": [
        "number_to_class = ['airplane', 'automobile', 'bird', 'cat', 'deer', 'dog', 'frog', 'horse', 'ship', 'truck']\n",
        "index = np.argsort(probabilities2[0,:])\n",
        "print(\"Most likely class:\", number_to_class[index[9]], \"-- Probability:\", probabilities2[0,index[9]])\n",
        "print(\"Second most likely class:\", number_to_class[index[8]], \"-- Probability:\", probabilities2[0,index[8]])\n",
        "print(\"Third most likely class:\", number_to_class[index[7]], \"-- Probability:\", probabilities2[0,index[7]])\n",
        "print(\"Fourth most likely class:\", number_to_class[index[6]], \"-- Probability:\", probabilities2[0,index[6]])\n",
        "print(\"Fifth most likely class:\", number_to_class[index[5]], \"-- Probability:\", probabilities2[0,index[5]])"
      ],
      "execution_count": 81,
      "outputs": [
        {
          "output_type": "stream",
          "name": "stdout",
          "text": [
            "Most likely class: dog -- Probability: 0.40009025\n",
            "Second most likely class: cat -- Probability: 0.23458794\n",
            "Third most likely class: deer -- Probability: 0.19892299\n",
            "Fourth most likely class: horse -- Probability: 0.13656318\n",
            "Fifth most likely class: frog -- Probability: 0.021736661\n"
          ]
        }
      ]
    },
    {
      "cell_type": "code",
      "metadata": {
        "id": "z-tHnsbRlbcn"
      },
      "source": [
        "from keras.models import load_model\n",
        "model3 = load_model('/content/my_cifar10_model.h5')"
      ],
      "execution_count": 83,
      "outputs": []
    },
    {
      "cell_type": "code",
      "metadata": {
        "colab": {
          "base_uri": "https://localhost:8080/"
        },
        "id": "IK4O-OrhFeKn",
        "outputId": "e3b3b8f3-dfca-4217-c4b0-3be6c909eb29"
      },
      "source": [
        "model3.evaluate(xtest,ytestonehot)"
      ],
      "execution_count": 84,
      "outputs": [
        {
          "output_type": "stream",
          "name": "stdout",
          "text": [
            "313/313 [==============================] - 2s 6ms/step - loss: 0.7219 - accuracy: 0.7709\n"
          ]
        },
        {
          "output_type": "execute_result",
          "data": {
            "text/plain": [
              "[0.7218727469444275, 0.7709000110626221]"
            ]
          },
          "metadata": {},
          "execution_count": 84
        }
      ]
    },
    {
      "cell_type": "code",
      "metadata": {
        "id": "S590P7kgIEAJ"
      },
      "source": [
        "probabilities3 = model.predict(\n",
        "    np.array([resized, ])\n",
        "    )"
      ],
      "execution_count": 87,
      "outputs": []
    },
    {
      "cell_type": "code",
      "metadata": {
        "colab": {
          "base_uri": "https://localhost:8080/"
        },
        "id": "-EIfWApdIJys",
        "outputId": "8a1eb418-9f41-44b6-c824-e69906edfbb0"
      },
      "source": [
        "number_to_class = ['airplane', 'automobile', 'bird', 'cat', 'deer', 'dog', 'frog', 'horse', 'ship', 'truck']\n",
        "index = np.argsort(probabilities3[0,:])\n",
        "print(\"Most likely class:\", number_to_class[index[9]], \"-- Probability:\", probabilities3[0,index[9]])\n",
        "print(\"Second most likely class:\", number_to_class[index[8]], \"-- Probability:\", probabilities3[0,index[8]])\n",
        "print(\"Third most likely class:\", number_to_class[index[7]], \"-- Probability:\", probabilities3[0,index[7]])\n",
        "print(\"Fourth most likely class:\", number_to_class[index[6]], \"-- Probability:\", probabilities3[0,index[6]])\n",
        "print(\"Fifth most likely class:\", number_to_class[index[5]], \"-- Probability:\", probabilities3[0,index[5]])"
      ],
      "execution_count": 88,
      "outputs": [
        {
          "output_type": "stream",
          "name": "stdout",
          "text": [
            "Most likely class: cat -- Probability: 0.5945772\n",
            "Second most likely class: horse -- Probability: 0.21726166\n",
            "Third most likely class: dog -- Probability: 0.06330916\n",
            "Fourth most likely class: deer -- Probability: 0.040646907\n",
            "Fifth most likely class: truck -- Probability: 0.027322328\n"
          ]
        }
      ]
    },
    {
      "cell_type": "code",
      "metadata": {
        "id": "XOdN-GR_IR6N"
      },
      "source": [
        ""
      ],
      "execution_count": null,
      "outputs": []
    }
  ]
}