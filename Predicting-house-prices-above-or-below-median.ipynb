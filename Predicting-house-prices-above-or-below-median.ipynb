{
  "nbformat": 4,
  "nbformat_minor": 0,
  "metadata": {
    "colab": {
      "name": "Predicting house prices.ipynb",
      "provenance": [],
      "collapsed_sections": [],
      "mount_file_id": "17iNG3plAeZR5-4So6mejvsoxa93zd3D2",
      "authorship_tag": "ABX9TyMLk9+qjqJdy762BNwrBCQU",
      "include_colab_link": true
    },
    "kernelspec": {
      "name": "python3",
      "display_name": "Python 3"
    },
    "language_info": {
      "name": "python"
    }
  },
  "cells": [
    {
      "cell_type": "markdown",
      "metadata": {
        "id": "view-in-github",
        "colab_type": "text"
      },
      "source": [
        "<a href=\"https://colab.research.google.com/github/btkcodedev/ml-projects/blob/main/Predicting-house-prices-above-or-below-median.ipynb\" target=\"_parent\"><img src=\"https://colab.research.google.com/assets/colab-badge.svg\" alt=\"Open In Colab\"/></a>"
      ]
    },
    {
      "cell_type": "markdown",
      "metadata": {
        "id": "AiVgBUHc3Lu1"
      },
      "source": [
        "Used Neural Network Within Keras For Building The ANN For Project"
      ]
    },
    {
      "cell_type": "code",
      "metadata": {
        "id": "C1LthljHjbQO"
      },
      "source": [
        "#Help Referenced: https://medium.com/intuitive-deep-learning/build-your-first-neural-network-to-predict-house-prices-with-keras-eb5db60232c\n",
        "import pandas as pd"
      ],
      "execution_count": null,
      "outputs": []
    },
    {
      "cell_type": "code",
      "metadata": {
        "colab": {
          "base_uri": "https://localhost:8080/"
        },
        "id": "ntMZeqxwkaJX",
        "outputId": "c6ab9942-22f5-4528-b4ca-2e4783e48c96"
      },
      "source": [
        "from google.colab import drive\n",
        "drive.mount('/content/drive')"
      ],
      "execution_count": null,
      "outputs": [
        {
          "output_type": "stream",
          "name": "stdout",
          "text": [
            "Mounted at /content/drive\n"
          ]
        }
      ]
    },
    {
      "cell_type": "code",
      "metadata": {
        "id": "X2WiWJlrkbLM"
      },
      "source": [
        "df = pd.read_csv('/content/drive/MyDrive/Colab Notebooks/housepricedata.csv')"
      ],
      "execution_count": null,
      "outputs": []
    },
    {
      "cell_type": "code",
      "metadata": {
        "colab": {
          "base_uri": "https://localhost:8080/",
          "height": 225
        },
        "id": "KR4PaD30k52O",
        "outputId": "a8cfb7ac-adee-43c2-995e-e5748ec78511"
      },
      "source": [
        "df.head()"
      ],
      "execution_count": null,
      "outputs": [
        {
          "output_type": "execute_result",
          "data": {
            "text/html": [
              "<div>\n",
              "<style scoped>\n",
              "    .dataframe tbody tr th:only-of-type {\n",
              "        vertical-align: middle;\n",
              "    }\n",
              "\n",
              "    .dataframe tbody tr th {\n",
              "        vertical-align: top;\n",
              "    }\n",
              "\n",
              "    .dataframe thead th {\n",
              "        text-align: right;\n",
              "    }\n",
              "</style>\n",
              "<table border=\"1\" class=\"dataframe\">\n",
              "  <thead>\n",
              "    <tr style=\"text-align: right;\">\n",
              "      <th></th>\n",
              "      <th>LotArea</th>\n",
              "      <th>OverallQual</th>\n",
              "      <th>OverallCond</th>\n",
              "      <th>TotalBsmtSF</th>\n",
              "      <th>FullBath</th>\n",
              "      <th>HalfBath</th>\n",
              "      <th>BedroomAbvGr</th>\n",
              "      <th>TotRmsAbvGrd</th>\n",
              "      <th>Fireplaces</th>\n",
              "      <th>GarageArea</th>\n",
              "      <th>AboveMedianPrice</th>\n",
              "    </tr>\n",
              "  </thead>\n",
              "  <tbody>\n",
              "    <tr>\n",
              "      <th>0</th>\n",
              "      <td>8450</td>\n",
              "      <td>7</td>\n",
              "      <td>5</td>\n",
              "      <td>856</td>\n",
              "      <td>2</td>\n",
              "      <td>1</td>\n",
              "      <td>3</td>\n",
              "      <td>8</td>\n",
              "      <td>0</td>\n",
              "      <td>548</td>\n",
              "      <td>1</td>\n",
              "    </tr>\n",
              "    <tr>\n",
              "      <th>1</th>\n",
              "      <td>9600</td>\n",
              "      <td>6</td>\n",
              "      <td>8</td>\n",
              "      <td>1262</td>\n",
              "      <td>2</td>\n",
              "      <td>0</td>\n",
              "      <td>3</td>\n",
              "      <td>6</td>\n",
              "      <td>1</td>\n",
              "      <td>460</td>\n",
              "      <td>1</td>\n",
              "    </tr>\n",
              "    <tr>\n",
              "      <th>2</th>\n",
              "      <td>11250</td>\n",
              "      <td>7</td>\n",
              "      <td>5</td>\n",
              "      <td>920</td>\n",
              "      <td>2</td>\n",
              "      <td>1</td>\n",
              "      <td>3</td>\n",
              "      <td>6</td>\n",
              "      <td>1</td>\n",
              "      <td>608</td>\n",
              "      <td>1</td>\n",
              "    </tr>\n",
              "    <tr>\n",
              "      <th>3</th>\n",
              "      <td>9550</td>\n",
              "      <td>7</td>\n",
              "      <td>5</td>\n",
              "      <td>756</td>\n",
              "      <td>1</td>\n",
              "      <td>0</td>\n",
              "      <td>3</td>\n",
              "      <td>7</td>\n",
              "      <td>1</td>\n",
              "      <td>642</td>\n",
              "      <td>0</td>\n",
              "    </tr>\n",
              "    <tr>\n",
              "      <th>4</th>\n",
              "      <td>14260</td>\n",
              "      <td>8</td>\n",
              "      <td>5</td>\n",
              "      <td>1145</td>\n",
              "      <td>2</td>\n",
              "      <td>1</td>\n",
              "      <td>4</td>\n",
              "      <td>9</td>\n",
              "      <td>1</td>\n",
              "      <td>836</td>\n",
              "      <td>1</td>\n",
              "    </tr>\n",
              "  </tbody>\n",
              "</table>\n",
              "</div>"
            ],
            "text/plain": [
              "   LotArea  OverallQual  OverallCond  ...  Fireplaces  GarageArea  AboveMedianPrice\n",
              "0     8450            7            5  ...           0         548                 1\n",
              "1     9600            6            8  ...           1         460                 1\n",
              "2    11250            7            5  ...           1         608                 1\n",
              "3     9550            7            5  ...           1         642                 0\n",
              "4    14260            8            5  ...           1         836                 1\n",
              "\n",
              "[5 rows x 11 columns]"
            ]
          },
          "metadata": {},
          "execution_count": 5
        }
      ]
    },
    {
      "cell_type": "code",
      "metadata": {
        "colab": {
          "base_uri": "https://localhost:8080/",
          "height": 442
        },
        "id": "Ig8t8SAMlCvx",
        "outputId": "c3f60b68-8221-4a9b-83ff-1168b41cdf57"
      },
      "source": [
        "df"
      ],
      "execution_count": null,
      "outputs": [
        {
          "output_type": "execute_result",
          "data": {
            "text/html": [
              "<div>\n",
              "<style scoped>\n",
              "    .dataframe tbody tr th:only-of-type {\n",
              "        vertical-align: middle;\n",
              "    }\n",
              "\n",
              "    .dataframe tbody tr th {\n",
              "        vertical-align: top;\n",
              "    }\n",
              "\n",
              "    .dataframe thead th {\n",
              "        text-align: right;\n",
              "    }\n",
              "</style>\n",
              "<table border=\"1\" class=\"dataframe\">\n",
              "  <thead>\n",
              "    <tr style=\"text-align: right;\">\n",
              "      <th></th>\n",
              "      <th>LotArea</th>\n",
              "      <th>OverallQual</th>\n",
              "      <th>OverallCond</th>\n",
              "      <th>TotalBsmtSF</th>\n",
              "      <th>FullBath</th>\n",
              "      <th>HalfBath</th>\n",
              "      <th>BedroomAbvGr</th>\n",
              "      <th>TotRmsAbvGrd</th>\n",
              "      <th>Fireplaces</th>\n",
              "      <th>GarageArea</th>\n",
              "      <th>AboveMedianPrice</th>\n",
              "    </tr>\n",
              "  </thead>\n",
              "  <tbody>\n",
              "    <tr>\n",
              "      <th>0</th>\n",
              "      <td>8450</td>\n",
              "      <td>7</td>\n",
              "      <td>5</td>\n",
              "      <td>856</td>\n",
              "      <td>2</td>\n",
              "      <td>1</td>\n",
              "      <td>3</td>\n",
              "      <td>8</td>\n",
              "      <td>0</td>\n",
              "      <td>548</td>\n",
              "      <td>1</td>\n",
              "    </tr>\n",
              "    <tr>\n",
              "      <th>1</th>\n",
              "      <td>9600</td>\n",
              "      <td>6</td>\n",
              "      <td>8</td>\n",
              "      <td>1262</td>\n",
              "      <td>2</td>\n",
              "      <td>0</td>\n",
              "      <td>3</td>\n",
              "      <td>6</td>\n",
              "      <td>1</td>\n",
              "      <td>460</td>\n",
              "      <td>1</td>\n",
              "    </tr>\n",
              "    <tr>\n",
              "      <th>2</th>\n",
              "      <td>11250</td>\n",
              "      <td>7</td>\n",
              "      <td>5</td>\n",
              "      <td>920</td>\n",
              "      <td>2</td>\n",
              "      <td>1</td>\n",
              "      <td>3</td>\n",
              "      <td>6</td>\n",
              "      <td>1</td>\n",
              "      <td>608</td>\n",
              "      <td>1</td>\n",
              "    </tr>\n",
              "    <tr>\n",
              "      <th>3</th>\n",
              "      <td>9550</td>\n",
              "      <td>7</td>\n",
              "      <td>5</td>\n",
              "      <td>756</td>\n",
              "      <td>1</td>\n",
              "      <td>0</td>\n",
              "      <td>3</td>\n",
              "      <td>7</td>\n",
              "      <td>1</td>\n",
              "      <td>642</td>\n",
              "      <td>0</td>\n",
              "    </tr>\n",
              "    <tr>\n",
              "      <th>4</th>\n",
              "      <td>14260</td>\n",
              "      <td>8</td>\n",
              "      <td>5</td>\n",
              "      <td>1145</td>\n",
              "      <td>2</td>\n",
              "      <td>1</td>\n",
              "      <td>4</td>\n",
              "      <td>9</td>\n",
              "      <td>1</td>\n",
              "      <td>836</td>\n",
              "      <td>1</td>\n",
              "    </tr>\n",
              "    <tr>\n",
              "      <th>...</th>\n",
              "      <td>...</td>\n",
              "      <td>...</td>\n",
              "      <td>...</td>\n",
              "      <td>...</td>\n",
              "      <td>...</td>\n",
              "      <td>...</td>\n",
              "      <td>...</td>\n",
              "      <td>...</td>\n",
              "      <td>...</td>\n",
              "      <td>...</td>\n",
              "      <td>...</td>\n",
              "    </tr>\n",
              "    <tr>\n",
              "      <th>1455</th>\n",
              "      <td>7917</td>\n",
              "      <td>6</td>\n",
              "      <td>5</td>\n",
              "      <td>953</td>\n",
              "      <td>2</td>\n",
              "      <td>1</td>\n",
              "      <td>3</td>\n",
              "      <td>7</td>\n",
              "      <td>1</td>\n",
              "      <td>460</td>\n",
              "      <td>1</td>\n",
              "    </tr>\n",
              "    <tr>\n",
              "      <th>1456</th>\n",
              "      <td>13175</td>\n",
              "      <td>6</td>\n",
              "      <td>6</td>\n",
              "      <td>1542</td>\n",
              "      <td>2</td>\n",
              "      <td>0</td>\n",
              "      <td>3</td>\n",
              "      <td>7</td>\n",
              "      <td>2</td>\n",
              "      <td>500</td>\n",
              "      <td>1</td>\n",
              "    </tr>\n",
              "    <tr>\n",
              "      <th>1457</th>\n",
              "      <td>9042</td>\n",
              "      <td>7</td>\n",
              "      <td>9</td>\n",
              "      <td>1152</td>\n",
              "      <td>2</td>\n",
              "      <td>0</td>\n",
              "      <td>4</td>\n",
              "      <td>9</td>\n",
              "      <td>2</td>\n",
              "      <td>252</td>\n",
              "      <td>1</td>\n",
              "    </tr>\n",
              "    <tr>\n",
              "      <th>1458</th>\n",
              "      <td>9717</td>\n",
              "      <td>5</td>\n",
              "      <td>6</td>\n",
              "      <td>1078</td>\n",
              "      <td>1</td>\n",
              "      <td>0</td>\n",
              "      <td>2</td>\n",
              "      <td>5</td>\n",
              "      <td>0</td>\n",
              "      <td>240</td>\n",
              "      <td>0</td>\n",
              "    </tr>\n",
              "    <tr>\n",
              "      <th>1459</th>\n",
              "      <td>9937</td>\n",
              "      <td>5</td>\n",
              "      <td>6</td>\n",
              "      <td>1256</td>\n",
              "      <td>1</td>\n",
              "      <td>1</td>\n",
              "      <td>3</td>\n",
              "      <td>6</td>\n",
              "      <td>0</td>\n",
              "      <td>276</td>\n",
              "      <td>0</td>\n",
              "    </tr>\n",
              "  </tbody>\n",
              "</table>\n",
              "<p>1460 rows × 11 columns</p>\n",
              "</div>"
            ],
            "text/plain": [
              "      LotArea  OverallQual  ...  GarageArea  AboveMedianPrice\n",
              "0        8450            7  ...         548                 1\n",
              "1        9600            6  ...         460                 1\n",
              "2       11250            7  ...         608                 1\n",
              "3        9550            7  ...         642                 0\n",
              "4       14260            8  ...         836                 1\n",
              "...       ...          ...  ...         ...               ...\n",
              "1455     7917            6  ...         460                 1\n",
              "1456    13175            6  ...         500                 1\n",
              "1457     9042            7  ...         252                 1\n",
              "1458     9717            5  ...         240                 0\n",
              "1459     9937            5  ...         276                 0\n",
              "\n",
              "[1460 rows x 11 columns]"
            ]
          },
          "metadata": {},
          "execution_count": 6
        }
      ]
    },
    {
      "cell_type": "code",
      "metadata": {
        "id": "Y6f_f-bmlGYu"
      },
      "source": [
        "dataset = df.values  #Make it an array"
      ],
      "execution_count": null,
      "outputs": []
    },
    {
      "cell_type": "code",
      "metadata": {
        "colab": {
          "base_uri": "https://localhost:8080/"
        },
        "id": "kowFcyPJlMU0",
        "outputId": "42c3aaf2-e1fb-4a09-f680-4723272a6bf3"
      },
      "source": [
        "dataset"
      ],
      "execution_count": null,
      "outputs": [
        {
          "output_type": "execute_result",
          "data": {
            "text/plain": [
              "array([[ 8450,     7,     5, ...,     0,   548,     1],\n",
              "       [ 9600,     6,     8, ...,     1,   460,     1],\n",
              "       [11250,     7,     5, ...,     1,   608,     1],\n",
              "       ...,\n",
              "       [ 9042,     7,     9, ...,     2,   252,     1],\n",
              "       [ 9717,     5,     6, ...,     0,   240,     0],\n",
              "       [ 9937,     5,     6, ...,     0,   276,     0]])"
            ]
          },
          "metadata": {},
          "execution_count": 8
        }
      ]
    },
    {
      "cell_type": "code",
      "metadata": {
        "colab": {
          "base_uri": "https://localhost:8080/"
        },
        "id": "3I0vK1pwlPnI",
        "outputId": "afab9f98-adde-4aae-f7a0-91f4ea667d94"
      },
      "source": [
        "len(df.columns) #For splitting purpose"
      ],
      "execution_count": null,
      "outputs": [
        {
          "output_type": "execute_result",
          "data": {
            "text/plain": [
              "11"
            ]
          },
          "metadata": {},
          "execution_count": 11
        }
      ]
    },
    {
      "cell_type": "code",
      "metadata": {
        "id": "dRDA_b6clfu1"
      },
      "source": [
        "x = dataset[:,0:10] #Spilt to 'every row', 'columnrange(0 to 9)'"
      ],
      "execution_count": null,
      "outputs": []
    },
    {
      "cell_type": "code",
      "metadata": {
        "colab": {
          "base_uri": "https://localhost:8080/"
        },
        "id": "A3IJeKp2lwLo",
        "outputId": "9d1b413d-75dd-464e-d2d6-cf953e3c3cd0"
      },
      "source": [
        "x"
      ],
      "execution_count": null,
      "outputs": [
        {
          "output_type": "execute_result",
          "data": {
            "text/plain": [
              "array([[ 8450,     7,     5, ...,     8,     0,   548],\n",
              "       [ 9600,     6,     8, ...,     6,     1,   460],\n",
              "       [11250,     7,     5, ...,     6,     1,   608],\n",
              "       ...,\n",
              "       [ 9042,     7,     9, ...,     9,     2,   252],\n",
              "       [ 9717,     5,     6, ...,     5,     0,   240],\n",
              "       [ 9937,     5,     6, ...,     6,     0,   276]])"
            ]
          },
          "metadata": {},
          "execution_count": 13
        }
      ]
    },
    {
      "cell_type": "code",
      "metadata": {
        "id": "2UPCjjBilw2J"
      },
      "source": [
        "y = dataset[:,10] #Spilt to 'every row', 'column(10)'"
      ],
      "execution_count": null,
      "outputs": []
    },
    {
      "cell_type": "code",
      "metadata": {
        "colab": {
          "base_uri": "https://localhost:8080/"
        },
        "id": "DzddJv1-l5_2",
        "outputId": "180c27d9-1c1d-4d4d-daef-075a69c26387"
      },
      "source": [
        "y"
      ],
      "execution_count": null,
      "outputs": [
        {
          "output_type": "execute_result",
          "data": {
            "text/plain": [
              "array([1, 1, 1, ..., 1, 0, 0])"
            ]
          },
          "metadata": {},
          "execution_count": 20
        }
      ]
    },
    {
      "cell_type": "code",
      "metadata": {
        "id": "LklEcEbOl9BC"
      },
      "source": [
        "# Preprocessing for cleansing\n",
        "from sklearn import preprocessing"
      ],
      "execution_count": null,
      "outputs": []
    },
    {
      "cell_type": "code",
      "metadata": {
        "id": "64p3x95Gm3IA"
      },
      "source": [
        "minmaxscaler = preprocessing.MinMaxScaler()"
      ],
      "execution_count": null,
      "outputs": []
    },
    {
      "cell_type": "code",
      "metadata": {
        "id": "bsvuJHMQnKPR"
      },
      "source": [
        "xscale = minmaxscaler.fit_transform(x)"
      ],
      "execution_count": null,
      "outputs": []
    },
    {
      "cell_type": "code",
      "metadata": {
        "colab": {
          "base_uri": "https://localhost:8080/"
        },
        "id": "bihjZJsWnOrE",
        "outputId": "afd34e33-f0d1-4e02-d5dd-b9c3d783f138"
      },
      "source": [
        "xscale"
      ],
      "execution_count": null,
      "outputs": [
        {
          "output_type": "execute_result",
          "data": {
            "text/plain": [
              "array([[0.0334198 , 0.66666667, 0.5       , ..., 0.5       , 0.        ,\n",
              "        0.3864598 ],\n",
              "       [0.03879502, 0.55555556, 0.875     , ..., 0.33333333, 0.33333333,\n",
              "        0.32440056],\n",
              "       [0.04650728, 0.66666667, 0.5       , ..., 0.33333333, 0.33333333,\n",
              "        0.42877292],\n",
              "       ...,\n",
              "       [0.03618687, 0.66666667, 1.        , ..., 0.58333333, 0.66666667,\n",
              "        0.17771509],\n",
              "       [0.03934189, 0.44444444, 0.625     , ..., 0.25      , 0.        ,\n",
              "        0.16925247],\n",
              "       [0.04037019, 0.44444444, 0.625     , ..., 0.33333333, 0.        ,\n",
              "        0.19464034]])"
            ]
          },
          "metadata": {},
          "execution_count": 24
        }
      ]
    },
    {
      "cell_type": "code",
      "metadata": {
        "id": "Kb7SFHFJnQGW"
      },
      "source": [
        "# Separating training and testing dataset\n",
        "from sklearn.model_selection import train_test_split"
      ],
      "execution_count": null,
      "outputs": []
    },
    {
      "cell_type": "code",
      "metadata": {
        "id": "TsZDLeSPnixz"
      },
      "source": [
        "#Separating training and testing dataset\n",
        "# Total dataset = 100% = 1500 items\n",
        "# Training = 70% = 1050 items\n",
        "# Testing & Validation = 30% = 450 items\n",
        "xtrain, xvaltest, ytrain, yvaltest = train_test_split(xscale, y, test_size = 0.3)"
      ],
      "execution_count": null,
      "outputs": []
    },
    {
      "cell_type": "code",
      "metadata": {
        "id": "TezfSoQmn1ky"
      },
      "source": [
        "# Separating validation and testing dataset\n",
        "# Validation = 15% = 225 items\n",
        "# Testing = 15% = 225 items\n",
        "xval, xtest, yval, ytest = train_test_split(xvaltest, yvaltest, test_size = 0.5)"
      ],
      "execution_count": null,
      "outputs": []
    },
    {
      "cell_type": "code",
      "metadata": {
        "colab": {
          "base_uri": "https://localhost:8080/"
        },
        "id": "qY1ejCbJoUMf",
        "outputId": "55132a02-5c79-4440-af5b-d239e1fce6de"
      },
      "source": [
        "print(xtrain.shape, xval.shape, xtest.shape, ytrain.shape, yval.shape, ytest.shape)\n",
        "# 1460 data points are available, other 40 are excluded during the preprocessing"
      ],
      "execution_count": null,
      "outputs": [
        {
          "output_type": "stream",
          "name": "stdout",
          "text": [
            "(1022, 10) (219, 10) (219, 10) (1022,) (219,) (219,)\n"
          ]
        }
      ]
    },
    {
      "cell_type": "code",
      "metadata": {
        "id": "QQ8iFq6Bpagu"
      },
      "source": [
        "from keras.models import Sequential\n",
        "from keras.layers import Dense"
      ],
      "execution_count": null,
      "outputs": []
    },
    {
      "cell_type": "code",
      "metadata": {
        "id": "qcZ1j_slqaAe"
      },
      "source": [
        "model = Sequential([\n",
        "                    #Dense refers to fully connected layers\n",
        "                    Dense(32, activation=\"relu\", input_shape=(10,)),  #First Hidden Layer \n",
        "                    Dense(32, activation=\"relu\"), #Second Hidden Layer\n",
        "                    Dense(1, activation=\"sigmoid\"),\n",
        "])"
      ],
      "execution_count": null,
      "outputs": []
    },
    {
      "cell_type": "code",
      "metadata": {
        "id": "yjWawY8nrH45"
      },
      "source": [
        "model.compile(\n",
        "    optimizer= \"sgd\", #‘sgd’ refers to stochastic gradient descent\n",
        "    loss = \"binary_crossentropy\", #The loss function for outputs that take the values 1 or 0 is called binary cross entropy\n",
        "    metrics = ['accuracy'] #Also track accuracy\n",
        ")"
      ],
      "execution_count": null,
      "outputs": []
    },
    {
      "cell_type": "code",
      "metadata": {
        "colab": {
          "base_uri": "https://localhost:8080/"
        },
        "id": "ynwG2VIjrxVT",
        "outputId": "d01aa6c3-32de-4d17-b4e5-f4787d88fa00"
      },
      "source": [
        "hist = model.fit(\n",
        "    xtrain, ytrain,\n",
        "    batch_size=32, epochs= 100,\n",
        "    validation_data=(xval, yval)\n",
        ")"
      ],
      "execution_count": null,
      "outputs": [
        {
          "output_type": "stream",
          "name": "stdout",
          "text": [
            "Epoch 1/100\n",
            "32/32 [==============================] - 1s 7ms/step - loss: 0.6952 - accuracy: 0.4961 - val_loss: 0.6897 - val_accuracy: 0.5662\n",
            "Epoch 2/100\n",
            "32/32 [==============================] - 0s 2ms/step - loss: 0.6878 - accuracy: 0.5558 - val_loss: 0.6823 - val_accuracy: 0.5799\n",
            "Epoch 3/100\n",
            "32/32 [==============================] - 0s 2ms/step - loss: 0.6820 - accuracy: 0.5245 - val_loss: 0.6761 - val_accuracy: 0.5799\n",
            "Epoch 4/100\n",
            "32/32 [==============================] - 0s 3ms/step - loss: 0.6766 - accuracy: 0.5382 - val_loss: 0.6709 - val_accuracy: 0.5936\n",
            "Epoch 5/100\n",
            "32/32 [==============================] - 0s 2ms/step - loss: 0.6719 - accuracy: 0.5890 - val_loss: 0.6662 - val_accuracy: 0.6119\n",
            "Epoch 6/100\n",
            "32/32 [==============================] - 0s 2ms/step - loss: 0.6670 - accuracy: 0.6282 - val_loss: 0.6615 - val_accuracy: 0.6438\n",
            "Epoch 7/100\n",
            "32/32 [==============================] - 0s 3ms/step - loss: 0.6621 - accuracy: 0.6350 - val_loss: 0.6569 - val_accuracy: 0.7032\n",
            "Epoch 8/100\n",
            "32/32 [==============================] - 0s 2ms/step - loss: 0.6570 - accuracy: 0.6888 - val_loss: 0.6520 - val_accuracy: 0.7215\n",
            "Epoch 9/100\n",
            "32/32 [==============================] - 0s 2ms/step - loss: 0.6519 - accuracy: 0.7280 - val_loss: 0.6470 - val_accuracy: 0.7260\n",
            "Epoch 10/100\n",
            "32/32 [==============================] - 0s 2ms/step - loss: 0.6467 - accuracy: 0.7094 - val_loss: 0.6423 - val_accuracy: 0.7763\n",
            "Epoch 11/100\n",
            "32/32 [==============================] - 0s 2ms/step - loss: 0.6412 - accuracy: 0.7534 - val_loss: 0.6370 - val_accuracy: 0.7945\n",
            "Epoch 12/100\n",
            "32/32 [==============================] - 0s 3ms/step - loss: 0.6357 - accuracy: 0.7632 - val_loss: 0.6315 - val_accuracy: 0.7991\n",
            "Epoch 13/100\n",
            "32/32 [==============================] - 0s 3ms/step - loss: 0.6296 - accuracy: 0.7593 - val_loss: 0.6261 - val_accuracy: 0.7991\n",
            "Epoch 14/100\n",
            "32/32 [==============================] - 0s 2ms/step - loss: 0.6233 - accuracy: 0.7935 - val_loss: 0.6197 - val_accuracy: 0.8037\n",
            "Epoch 15/100\n",
            "32/32 [==============================] - 0s 2ms/step - loss: 0.6165 - accuracy: 0.7886 - val_loss: 0.6136 - val_accuracy: 0.7991\n",
            "Epoch 16/100\n",
            "32/32 [==============================] - 0s 2ms/step - loss: 0.6093 - accuracy: 0.8102 - val_loss: 0.6069 - val_accuracy: 0.8037\n",
            "Epoch 17/100\n",
            "32/32 [==============================] - 0s 2ms/step - loss: 0.6017 - accuracy: 0.8297 - val_loss: 0.5997 - val_accuracy: 0.8037\n",
            "Epoch 18/100\n",
            "32/32 [==============================] - 0s 2ms/step - loss: 0.5937 - accuracy: 0.8239 - val_loss: 0.5929 - val_accuracy: 0.8082\n",
            "Epoch 19/100\n",
            "32/32 [==============================] - 0s 3ms/step - loss: 0.5854 - accuracy: 0.8454 - val_loss: 0.5844 - val_accuracy: 0.8128\n",
            "Epoch 20/100\n",
            "32/32 [==============================] - 0s 3ms/step - loss: 0.5765 - accuracy: 0.8454 - val_loss: 0.5763 - val_accuracy: 0.8174\n",
            "Epoch 21/100\n",
            "32/32 [==============================] - 0s 2ms/step - loss: 0.5673 - accuracy: 0.8552 - val_loss: 0.5673 - val_accuracy: 0.8174\n",
            "Epoch 22/100\n",
            "32/32 [==============================] - 0s 2ms/step - loss: 0.5577 - accuracy: 0.8503 - val_loss: 0.5587 - val_accuracy: 0.8174\n",
            "Epoch 23/100\n",
            "32/32 [==============================] - 0s 2ms/step - loss: 0.5477 - accuracy: 0.8581 - val_loss: 0.5497 - val_accuracy: 0.8265\n",
            "Epoch 24/100\n",
            "32/32 [==============================] - 0s 2ms/step - loss: 0.5375 - accuracy: 0.8571 - val_loss: 0.5413 - val_accuracy: 0.8311\n",
            "Epoch 25/100\n",
            "32/32 [==============================] - 0s 2ms/step - loss: 0.5272 - accuracy: 0.8669 - val_loss: 0.5323 - val_accuracy: 0.8311\n",
            "Epoch 26/100\n",
            "32/32 [==============================] - 0s 3ms/step - loss: 0.5168 - accuracy: 0.8708 - val_loss: 0.5225 - val_accuracy: 0.8311\n",
            "Epoch 27/100\n",
            "32/32 [==============================] - 0s 2ms/step - loss: 0.5063 - accuracy: 0.8669 - val_loss: 0.5143 - val_accuracy: 0.8356\n",
            "Epoch 28/100\n",
            "32/32 [==============================] - 0s 2ms/step - loss: 0.4959 - accuracy: 0.8679 - val_loss: 0.5050 - val_accuracy: 0.8311\n",
            "Epoch 29/100\n",
            "32/32 [==============================] - 0s 3ms/step - loss: 0.4855 - accuracy: 0.8718 - val_loss: 0.4958 - val_accuracy: 0.8356\n",
            "Epoch 30/100\n",
            "32/32 [==============================] - 0s 3ms/step - loss: 0.4748 - accuracy: 0.8796 - val_loss: 0.4854 - val_accuracy: 0.8311\n",
            "Epoch 31/100\n",
            "32/32 [==============================] - 0s 3ms/step - loss: 0.4648 - accuracy: 0.8718 - val_loss: 0.4780 - val_accuracy: 0.8311\n",
            "Epoch 32/100\n",
            "32/32 [==============================] - 0s 3ms/step - loss: 0.4548 - accuracy: 0.8787 - val_loss: 0.4684 - val_accuracy: 0.8219\n",
            "Epoch 33/100\n",
            "32/32 [==============================] - 0s 3ms/step - loss: 0.4454 - accuracy: 0.8767 - val_loss: 0.4614 - val_accuracy: 0.8265\n",
            "Epoch 34/100\n",
            "32/32 [==============================] - 0s 2ms/step - loss: 0.4354 - accuracy: 0.8806 - val_loss: 0.4538 - val_accuracy: 0.8265\n",
            "Epoch 35/100\n",
            "32/32 [==============================] - 0s 3ms/step - loss: 0.4260 - accuracy: 0.8816 - val_loss: 0.4440 - val_accuracy: 0.8265\n",
            "Epoch 36/100\n",
            "32/32 [==============================] - 0s 2ms/step - loss: 0.4176 - accuracy: 0.8816 - val_loss: 0.4391 - val_accuracy: 0.8265\n",
            "Epoch 37/100\n",
            "32/32 [==============================] - 0s 2ms/step - loss: 0.4091 - accuracy: 0.8787 - val_loss: 0.4345 - val_accuracy: 0.8265\n",
            "Epoch 38/100\n",
            "32/32 [==============================] - 0s 3ms/step - loss: 0.4009 - accuracy: 0.8796 - val_loss: 0.4246 - val_accuracy: 0.8265\n",
            "Epoch 39/100\n",
            "32/32 [==============================] - 0s 2ms/step - loss: 0.3937 - accuracy: 0.8816 - val_loss: 0.4195 - val_accuracy: 0.8311\n",
            "Epoch 40/100\n",
            "32/32 [==============================] - 0s 3ms/step - loss: 0.3863 - accuracy: 0.8816 - val_loss: 0.4145 - val_accuracy: 0.8311\n",
            "Epoch 41/100\n",
            "32/32 [==============================] - 0s 3ms/step - loss: 0.3795 - accuracy: 0.8806 - val_loss: 0.4095 - val_accuracy: 0.8311\n",
            "Epoch 42/100\n",
            "32/32 [==============================] - 0s 2ms/step - loss: 0.3731 - accuracy: 0.8816 - val_loss: 0.4034 - val_accuracy: 0.8311\n",
            "Epoch 43/100\n",
            "32/32 [==============================] - 0s 3ms/step - loss: 0.3668 - accuracy: 0.8777 - val_loss: 0.3973 - val_accuracy: 0.8311\n",
            "Epoch 44/100\n",
            "32/32 [==============================] - 0s 3ms/step - loss: 0.3611 - accuracy: 0.8826 - val_loss: 0.3924 - val_accuracy: 0.8311\n",
            "Epoch 45/100\n",
            "32/32 [==============================] - 0s 3ms/step - loss: 0.3557 - accuracy: 0.8806 - val_loss: 0.3899 - val_accuracy: 0.8265\n",
            "Epoch 46/100\n",
            "32/32 [==============================] - 0s 3ms/step - loss: 0.3506 - accuracy: 0.8836 - val_loss: 0.3879 - val_accuracy: 0.8265\n",
            "Epoch 47/100\n",
            "32/32 [==============================] - 0s 2ms/step - loss: 0.3458 - accuracy: 0.8855 - val_loss: 0.3829 - val_accuracy: 0.8265\n",
            "Epoch 48/100\n",
            "32/32 [==============================] - 0s 3ms/step - loss: 0.3412 - accuracy: 0.8806 - val_loss: 0.3809 - val_accuracy: 0.8311\n",
            "Epoch 49/100\n",
            "32/32 [==============================] - 0s 3ms/step - loss: 0.3370 - accuracy: 0.8836 - val_loss: 0.3773 - val_accuracy: 0.8311\n",
            "Epoch 50/100\n",
            "32/32 [==============================] - 0s 2ms/step - loss: 0.3325 - accuracy: 0.8836 - val_loss: 0.3715 - val_accuracy: 0.8219\n",
            "Epoch 51/100\n",
            "32/32 [==============================] - 0s 3ms/step - loss: 0.3290 - accuracy: 0.8806 - val_loss: 0.3694 - val_accuracy: 0.8265\n",
            "Epoch 52/100\n",
            "32/32 [==============================] - 0s 3ms/step - loss: 0.3255 - accuracy: 0.8806 - val_loss: 0.3718 - val_accuracy: 0.8493\n",
            "Epoch 53/100\n",
            "32/32 [==============================] - 0s 2ms/step - loss: 0.3224 - accuracy: 0.8836 - val_loss: 0.3670 - val_accuracy: 0.8447\n",
            "Epoch 54/100\n",
            "32/32 [==============================] - 0s 3ms/step - loss: 0.3193 - accuracy: 0.8875 - val_loss: 0.3637 - val_accuracy: 0.8402\n",
            "Epoch 55/100\n",
            "32/32 [==============================] - 0s 2ms/step - loss: 0.3161 - accuracy: 0.8914 - val_loss: 0.3597 - val_accuracy: 0.8265\n",
            "Epoch 56/100\n",
            "32/32 [==============================] - 0s 2ms/step - loss: 0.3129 - accuracy: 0.8836 - val_loss: 0.3560 - val_accuracy: 0.8265\n",
            "Epoch 57/100\n",
            "32/32 [==============================] - 0s 2ms/step - loss: 0.3107 - accuracy: 0.8865 - val_loss: 0.3623 - val_accuracy: 0.8493\n",
            "Epoch 58/100\n",
            "32/32 [==============================] - 0s 2ms/step - loss: 0.3083 - accuracy: 0.8845 - val_loss: 0.3589 - val_accuracy: 0.8493\n",
            "Epoch 59/100\n",
            "32/32 [==============================] - 0s 3ms/step - loss: 0.3062 - accuracy: 0.8875 - val_loss: 0.3598 - val_accuracy: 0.8447\n",
            "Epoch 60/100\n",
            "32/32 [==============================] - 0s 3ms/step - loss: 0.3042 - accuracy: 0.8865 - val_loss: 0.3547 - val_accuracy: 0.8493\n",
            "Epoch 61/100\n",
            "32/32 [==============================] - 0s 3ms/step - loss: 0.3016 - accuracy: 0.8845 - val_loss: 0.3507 - val_accuracy: 0.8402\n",
            "Epoch 62/100\n",
            "32/32 [==============================] - 0s 3ms/step - loss: 0.3000 - accuracy: 0.8855 - val_loss: 0.3518 - val_accuracy: 0.8493\n",
            "Epoch 63/100\n",
            "32/32 [==============================] - 0s 2ms/step - loss: 0.2984 - accuracy: 0.8894 - val_loss: 0.3526 - val_accuracy: 0.8447\n",
            "Epoch 64/100\n",
            "32/32 [==============================] - 0s 3ms/step - loss: 0.2963 - accuracy: 0.8894 - val_loss: 0.3482 - val_accuracy: 0.8493\n",
            "Epoch 65/100\n",
            "32/32 [==============================] - 0s 2ms/step - loss: 0.2944 - accuracy: 0.8894 - val_loss: 0.3440 - val_accuracy: 0.8447\n",
            "Epoch 66/100\n",
            "32/32 [==============================] - 0s 2ms/step - loss: 0.2934 - accuracy: 0.8865 - val_loss: 0.3472 - val_accuracy: 0.8493\n",
            "Epoch 67/100\n",
            "32/32 [==============================] - 0s 2ms/step - loss: 0.2921 - accuracy: 0.8885 - val_loss: 0.3500 - val_accuracy: 0.8447\n",
            "Epoch 68/100\n",
            "32/32 [==============================] - 0s 2ms/step - loss: 0.2904 - accuracy: 0.8894 - val_loss: 0.3501 - val_accuracy: 0.8447\n",
            "Epoch 69/100\n",
            "32/32 [==============================] - 0s 2ms/step - loss: 0.2889 - accuracy: 0.8914 - val_loss: 0.3466 - val_accuracy: 0.8447\n",
            "Epoch 70/100\n",
            "32/32 [==============================] - 0s 2ms/step - loss: 0.2875 - accuracy: 0.8943 - val_loss: 0.3414 - val_accuracy: 0.8447\n",
            "Epoch 71/100\n",
            "32/32 [==============================] - 0s 2ms/step - loss: 0.2865 - accuracy: 0.8914 - val_loss: 0.3410 - val_accuracy: 0.8493\n",
            "Epoch 72/100\n",
            "32/32 [==============================] - 0s 2ms/step - loss: 0.2849 - accuracy: 0.8904 - val_loss: 0.3444 - val_accuracy: 0.8447\n",
            "Epoch 73/100\n",
            "32/32 [==============================] - 0s 2ms/step - loss: 0.2842 - accuracy: 0.8914 - val_loss: 0.3448 - val_accuracy: 0.8447\n",
            "Epoch 74/100\n",
            "32/32 [==============================] - 0s 2ms/step - loss: 0.2828 - accuracy: 0.8933 - val_loss: 0.3382 - val_accuracy: 0.8447\n",
            "Epoch 75/100\n",
            "32/32 [==============================] - 0s 2ms/step - loss: 0.2820 - accuracy: 0.8904 - val_loss: 0.3370 - val_accuracy: 0.8447\n",
            "Epoch 76/100\n",
            "32/32 [==============================] - 0s 2ms/step - loss: 0.2815 - accuracy: 0.8953 - val_loss: 0.3351 - val_accuracy: 0.8447\n",
            "Epoch 77/100\n",
            "32/32 [==============================] - 0s 2ms/step - loss: 0.2799 - accuracy: 0.8933 - val_loss: 0.3363 - val_accuracy: 0.8447\n",
            "Epoch 78/100\n",
            "32/32 [==============================] - 0s 3ms/step - loss: 0.2790 - accuracy: 0.8933 - val_loss: 0.3344 - val_accuracy: 0.8447\n",
            "Epoch 79/100\n",
            "32/32 [==============================] - 0s 2ms/step - loss: 0.2779 - accuracy: 0.8933 - val_loss: 0.3368 - val_accuracy: 0.8447\n",
            "Epoch 80/100\n",
            "32/32 [==============================] - 0s 2ms/step - loss: 0.2768 - accuracy: 0.8943 - val_loss: 0.3397 - val_accuracy: 0.8447\n",
            "Epoch 81/100\n",
            "32/32 [==============================] - 0s 2ms/step - loss: 0.2765 - accuracy: 0.8953 - val_loss: 0.3343 - val_accuracy: 0.8447\n",
            "Epoch 82/100\n",
            "32/32 [==============================] - 0s 3ms/step - loss: 0.2751 - accuracy: 0.8963 - val_loss: 0.3339 - val_accuracy: 0.8447\n",
            "Epoch 83/100\n",
            "32/32 [==============================] - 0s 2ms/step - loss: 0.2748 - accuracy: 0.8973 - val_loss: 0.3334 - val_accuracy: 0.8447\n",
            "Epoch 84/100\n",
            "32/32 [==============================] - 0s 2ms/step - loss: 0.2737 - accuracy: 0.8953 - val_loss: 0.3364 - val_accuracy: 0.8447\n",
            "Epoch 85/100\n",
            "32/32 [==============================] - 0s 2ms/step - loss: 0.2733 - accuracy: 0.8943 - val_loss: 0.3317 - val_accuracy: 0.8447\n",
            "Epoch 86/100\n",
            "32/32 [==============================] - 0s 2ms/step - loss: 0.2720 - accuracy: 0.8992 - val_loss: 0.3302 - val_accuracy: 0.8447\n",
            "Epoch 87/100\n",
            "32/32 [==============================] - 0s 2ms/step - loss: 0.2712 - accuracy: 0.8982 - val_loss: 0.3250 - val_accuracy: 0.8493\n",
            "Epoch 88/100\n",
            "32/32 [==============================] - 0s 3ms/step - loss: 0.2706 - accuracy: 0.8963 - val_loss: 0.3257 - val_accuracy: 0.8493\n",
            "Epoch 89/100\n",
            "32/32 [==============================] - 0s 2ms/step - loss: 0.2702 - accuracy: 0.8973 - val_loss: 0.3274 - val_accuracy: 0.8447\n",
            "Epoch 90/100\n",
            "32/32 [==============================] - 0s 2ms/step - loss: 0.2693 - accuracy: 0.8963 - val_loss: 0.3228 - val_accuracy: 0.8539\n",
            "Epoch 91/100\n",
            "32/32 [==============================] - 0s 2ms/step - loss: 0.2702 - accuracy: 0.8953 - val_loss: 0.3270 - val_accuracy: 0.8447\n",
            "Epoch 92/100\n",
            "32/32 [==============================] - 0s 2ms/step - loss: 0.2680 - accuracy: 0.8992 - val_loss: 0.3239 - val_accuracy: 0.8493\n",
            "Epoch 93/100\n",
            "32/32 [==============================] - 0s 2ms/step - loss: 0.2674 - accuracy: 0.8973 - val_loss: 0.3215 - val_accuracy: 0.8493\n",
            "Epoch 94/100\n",
            "32/32 [==============================] - 0s 2ms/step - loss: 0.2670 - accuracy: 0.8953 - val_loss: 0.3296 - val_accuracy: 0.8584\n",
            "Epoch 95/100\n",
            "32/32 [==============================] - 0s 2ms/step - loss: 0.2665 - accuracy: 0.8982 - val_loss: 0.3244 - val_accuracy: 0.8539\n",
            "Epoch 96/100\n",
            "32/32 [==============================] - 0s 2ms/step - loss: 0.2659 - accuracy: 0.8973 - val_loss: 0.3250 - val_accuracy: 0.8539\n",
            "Epoch 97/100\n",
            "32/32 [==============================] - 0s 2ms/step - loss: 0.2649 - accuracy: 0.9012 - val_loss: 0.3196 - val_accuracy: 0.8539\n",
            "Epoch 98/100\n",
            "32/32 [==============================] - 0s 2ms/step - loss: 0.2644 - accuracy: 0.8982 - val_loss: 0.3204 - val_accuracy: 0.8539\n",
            "Epoch 99/100\n",
            "32/32 [==============================] - 0s 2ms/step - loss: 0.2635 - accuracy: 0.8982 - val_loss: 0.3160 - val_accuracy: 0.8539\n",
            "Epoch 100/100\n",
            "32/32 [==============================] - 0s 2ms/step - loss: 0.2627 - accuracy: 0.8973 - val_loss: 0.3151 - val_accuracy: 0.8584\n"
          ]
        }
      ]
    },
    {
      "cell_type": "code",
      "metadata": {
        "colab": {
          "base_uri": "https://localhost:8080/"
        },
        "id": "fmSSMIxSsMbA",
        "outputId": "f31db231-ef32-4d58-a906-155b95d1c2b7"
      },
      "source": [
        "loss, accuracy = model.evaluate(xtest, ytest)\n",
        "print(xtest.shape, ytest.shape)"
      ],
      "execution_count": null,
      "outputs": [
        {
          "output_type": "stream",
          "name": "stdout",
          "text": [
            "7/7 [==============================] - 0s 2ms/step - loss: 0.3020 - accuracy: 0.8767\n",
            "(219, 10) (219,)\n"
          ]
        }
      ]
    },
    {
      "cell_type": "code",
      "metadata": {
        "colab": {
          "base_uri": "https://localhost:8080/"
        },
        "id": "JYLMGk-6tRuM",
        "outputId": "69edc086-b62c-4d15-913f-67eb0c41a1a6"
      },
      "source": [
        "print(loss, accuracy)"
      ],
      "execution_count": null,
      "outputs": [
        {
          "output_type": "stream",
          "name": "stdout",
          "text": [
            "0.3020112216472626 0.8767123222351074\n"
          ]
        }
      ]
    },
    {
      "cell_type": "code",
      "metadata": {
        "id": "mYwfbfQ0tduU"
      },
      "source": [
        "# Finding wheather overfits or not\n",
        "import matplotlib.pyplot as plt"
      ],
      "execution_count": null,
      "outputs": []
    },
    {
      "cell_type": "code",
      "metadata": {
        "colab": {
          "base_uri": "https://localhost:8080/",
          "height": 295
        },
        "id": "SKkOD_OluVBK",
        "outputId": "a030f3fe-b3b0-4683-bcb6-7e89d8103307"
      },
      "source": [
        "plt.title('Model Loss')\n",
        "plt.xlabel('Epoch')\n",
        "plt.ylabel('Loss')\n",
        "plt.plot(hist.history['loss'])\n",
        "plt.plot(hist.history['val_loss'])\n",
        "plt.legend(['Train', 'Val'], loc=\"upper right\")  #Training & validation loss\n",
        "plt.show()"
      ],
      "execution_count": null,
      "outputs": [
        {
          "output_type": "display_data",
          "data": {
            "image/png": "[encoded data removed]",
            "text/plain": [
              "<Figure size 432x288 with 1 Axes>"
            ]
          },
          "metadata": {
            "needs_background": "light"
          }
        }
      ]
    },
    {
      "cell_type": "code",
      "metadata": {
        "id": "x8oVtYuIuV5u"
      },
      "source": [
        "plt.title('Model Accuracy')\n",
        "plt.xlabel('Epoch')\n",
        "plt.ylabel('Accuracy')\n",
        "plt.plot(hist.history['accuracy'])\n",
        "plt.plot(hist.history['val_accuracy'])\n",
        "plt.legend(['Train', 'Val'], loc=\"upper right\")  #Training & validation accuracy\n",
        "plt.show()"
      ],
      "execution_count": null,
      "outputs": []
    },
    {
      "cell_type": "code",
      "metadata": {
        "id": "NpQb7BKbvxmb"
      },
      "source": [
        "#Building Overfitting model\n",
        "modeltwo = Sequential([\n",
        "        Dense(1000, activation='relu', input_shape=(10,)),\n",
        "        Dense(1000, activation=\"relu\"),\n",
        "        Dense(1000, activation=\"relu\"),\n",
        "        Dense(1000, activation=\"relu\"),\n",
        "        Dense(1, activation=\"sigmoid\")\n",
        "])"
      ],
      "execution_count": null,
      "outputs": []
    },
    {
      "cell_type": "code",
      "metadata": {
        "id": "leh7v89uxoRW"
      },
      "source": [
        "modeltwo.compile(\n",
        "    optimizer='adam',\n",
        "    loss='binary_crossentropy',\n",
        "    metrics = ['accuracy']\n",
        ")"
      ],
      "execution_count": null,
      "outputs": []
    },
    {
      "cell_type": "code",
      "metadata": {
        "colab": {
          "base_uri": "https://localhost:8080/"
        },
        "id": "J-3Kj00nx6sy",
        "outputId": "1fdd922c-89f9-479e-90af-f55a4db24cf3"
      },
      "source": [
        "hist2 = modeltwo.fit(\n",
        "    xtrain, ytrain,\n",
        "    batch_size=32, epochs=100,\n",
        "    validation_data=(xval,yval)\n",
        ")"
      ],
      "execution_count": null,
      "outputs": [
        {
          "output_type": "stream",
          "name": "stdout",
          "text": [
            "Epoch 1/100\n",
            "32/32 [==============================] - 1s 40ms/step - loss: 0.1096 - accuracy: 0.9501 - val_loss: 0.4754 - val_accuracy: 0.8767\n",
            "Epoch 2/100\n",
            "32/32 [==============================] - 1s 35ms/step - loss: 0.0949 - accuracy: 0.9589 - val_loss: 0.4775 - val_accuracy: 0.8630\n",
            "Epoch 3/100\n",
            "32/32 [==============================] - 1s 43ms/step - loss: 0.1186 - accuracy: 0.9550 - val_loss: 0.4192 - val_accuracy: 0.8630\n",
            "Epoch 4/100\n",
            "32/32 [==============================] - 1s 44ms/step - loss: 0.1152 - accuracy: 0.9521 - val_loss: 0.3150 - val_accuracy: 0.8858\n",
            "Epoch 5/100\n",
            "32/32 [==============================] - 1s 36ms/step - loss: 0.1523 - accuracy: 0.9315 - val_loss: 0.3776 - val_accuracy: 0.8813\n",
            "Epoch 6/100\n",
            "32/32 [==============================] - 1s 35ms/step - loss: 0.1156 - accuracy: 0.9560 - val_loss: 0.4573 - val_accuracy: 0.8858\n",
            "Epoch 7/100\n",
            "32/32 [==============================] - 1s 35ms/step - loss: 0.1146 - accuracy: 0.9530 - val_loss: 0.5460 - val_accuracy: 0.8721\n",
            "Epoch 8/100\n",
            "32/32 [==============================] - 1s 35ms/step - loss: 0.1152 - accuracy: 0.9540 - val_loss: 0.5930 - val_accuracy: 0.8584\n",
            "Epoch 9/100\n",
            "32/32 [==============================] - 1s 37ms/step - loss: 0.1107 - accuracy: 0.9560 - val_loss: 0.4232 - val_accuracy: 0.8721\n",
            "Epoch 10/100\n",
            "32/32 [==============================] - 1s 44ms/step - loss: 0.0988 - accuracy: 0.9609 - val_loss: 0.4576 - val_accuracy: 0.8676\n",
            "Epoch 11/100\n",
            "32/32 [==============================] - 1s 36ms/step - loss: 0.1158 - accuracy: 0.9511 - val_loss: 0.4702 - val_accuracy: 0.8630\n",
            "Epoch 12/100\n",
            "32/32 [==============================] - 1s 44ms/step - loss: 0.0976 - accuracy: 0.9560 - val_loss: 0.5557 - val_accuracy: 0.8767\n",
            "Epoch 13/100\n",
            "32/32 [==============================] - 1s 45ms/step - loss: 0.1086 - accuracy: 0.9569 - val_loss: 0.6413 - val_accuracy: 0.8447\n",
            "Epoch 14/100\n",
            "32/32 [==============================] - 1s 44ms/step - loss: 0.1353 - accuracy: 0.9481 - val_loss: 0.4944 - val_accuracy: 0.8630\n",
            "Epoch 15/100\n",
            "32/32 [==============================] - 1s 35ms/step - loss: 0.0914 - accuracy: 0.9599 - val_loss: 0.5555 - val_accuracy: 0.8721\n",
            "Epoch 16/100\n",
            "32/32 [==============================] - 1s 35ms/step - loss: 0.0897 - accuracy: 0.9628 - val_loss: 0.6095 - val_accuracy: 0.8721\n",
            "Epoch 17/100\n",
            "32/32 [==============================] - 1s 36ms/step - loss: 0.0783 - accuracy: 0.9736 - val_loss: 0.6813 - val_accuracy: 0.8813\n",
            "Epoch 18/100\n",
            "32/32 [==============================] - 1s 36ms/step - loss: 0.0862 - accuracy: 0.9589 - val_loss: 0.6175 - val_accuracy: 0.8539\n",
            "Epoch 19/100\n",
            "32/32 [==============================] - 1s 36ms/step - loss: 0.2319 - accuracy: 0.9051 - val_loss: 0.3743 - val_accuracy: 0.8630\n",
            "Epoch 20/100\n",
            "32/32 [==============================] - 1s 36ms/step - loss: 0.1315 - accuracy: 0.9442 - val_loss: 0.4677 - val_accuracy: 0.8676\n",
            "Epoch 21/100\n",
            "32/32 [==============================] - 1s 35ms/step - loss: 0.1024 - accuracy: 0.9589 - val_loss: 0.5349 - val_accuracy: 0.8767\n",
            "Epoch 22/100\n",
            "32/32 [==============================] - 1s 36ms/step - loss: 0.0776 - accuracy: 0.9687 - val_loss: 0.6192 - val_accuracy: 0.8676\n",
            "Epoch 23/100\n",
            "32/32 [==============================] - 1s 44ms/step - loss: 0.0893 - accuracy: 0.9628 - val_loss: 0.5976 - val_accuracy: 0.8630\n",
            "Epoch 24/100\n",
            "32/32 [==============================] - 1s 45ms/step - loss: 0.0879 - accuracy: 0.9658 - val_loss: 0.6082 - val_accuracy: 0.8721\n",
            "Epoch 25/100\n",
            "32/32 [==============================] - 1s 45ms/step - loss: 0.0941 - accuracy: 0.9579 - val_loss: 0.6135 - val_accuracy: 0.8447\n",
            "Epoch 26/100\n",
            "32/32 [==============================] - 1s 45ms/step - loss: 0.0885 - accuracy: 0.9609 - val_loss: 0.6426 - val_accuracy: 0.8721\n",
            "Epoch 27/100\n",
            "32/32 [==============================] - 1s 37ms/step - loss: 0.0930 - accuracy: 0.9579 - val_loss: 0.6631 - val_accuracy: 0.8813\n",
            "Epoch 28/100\n",
            "32/32 [==============================] - 1s 35ms/step - loss: 0.0818 - accuracy: 0.9638 - val_loss: 0.6360 - val_accuracy: 0.8630\n",
            "Epoch 29/100\n",
            "32/32 [==============================] - 1s 35ms/step - loss: 0.0739 - accuracy: 0.9677 - val_loss: 0.6832 - val_accuracy: 0.8721\n",
            "Epoch 30/100\n",
            "32/32 [==============================] - 1s 35ms/step - loss: 0.0895 - accuracy: 0.9569 - val_loss: 0.7118 - val_accuracy: 0.8630\n",
            "Epoch 31/100\n",
            "32/32 [==============================] - 1s 36ms/step - loss: 0.0688 - accuracy: 0.9658 - val_loss: 0.7444 - val_accuracy: 0.8584\n",
            "Epoch 32/100\n",
            "32/32 [==============================] - 1s 41ms/step - loss: 0.1033 - accuracy: 0.9530 - val_loss: 0.6459 - val_accuracy: 0.8676\n",
            "Epoch 33/100\n",
            "32/32 [==============================] - 1s 40ms/step - loss: 0.1433 - accuracy: 0.9335 - val_loss: 0.5031 - val_accuracy: 0.8813\n",
            "Epoch 34/100\n",
            "32/32 [==============================] - 1s 45ms/step - loss: 0.1113 - accuracy: 0.9501 - val_loss: 0.5798 - val_accuracy: 0.8767\n",
            "Epoch 35/100\n",
            "32/32 [==============================] - 1s 44ms/step - loss: 0.0853 - accuracy: 0.9638 - val_loss: 0.6206 - val_accuracy: 0.8721\n",
            "Epoch 36/100\n",
            "32/32 [==============================] - 1s 45ms/step - loss: 0.0683 - accuracy: 0.9716 - val_loss: 0.7174 - val_accuracy: 0.8630\n",
            "Epoch 37/100\n",
            "32/32 [==============================] - 1s 44ms/step - loss: 0.0636 - accuracy: 0.9746 - val_loss: 0.7874 - val_accuracy: 0.8584\n",
            "Epoch 38/100\n",
            "32/32 [==============================] - 1s 44ms/step - loss: 0.0598 - accuracy: 0.9736 - val_loss: 0.7557 - val_accuracy: 0.8721\n",
            "Epoch 39/100\n",
            "32/32 [==============================] - 1s 43ms/step - loss: 0.0646 - accuracy: 0.9677 - val_loss: 0.8403 - val_accuracy: 0.8767\n",
            "Epoch 40/100\n",
            "32/32 [==============================] - 1s 36ms/step - loss: 0.0571 - accuracy: 0.9746 - val_loss: 0.9890 - val_accuracy: 0.8630\n",
            "Epoch 41/100\n",
            "32/32 [==============================] - 1s 39ms/step - loss: 0.1036 - accuracy: 0.9560 - val_loss: 0.7900 - val_accuracy: 0.8539\n",
            "Epoch 42/100\n",
            "32/32 [==============================] - 1s 39ms/step - loss: 0.1687 - accuracy: 0.9256 - val_loss: 0.4229 - val_accuracy: 0.8721\n",
            "Epoch 43/100\n",
            "32/32 [==============================] - 1s 35ms/step - loss: 0.1083 - accuracy: 0.9521 - val_loss: 0.5462 - val_accuracy: 0.8721\n",
            "Epoch 44/100\n",
            "32/32 [==============================] - 1s 42ms/step - loss: 0.0899 - accuracy: 0.9658 - val_loss: 0.5727 - val_accuracy: 0.8721\n",
            "Epoch 45/100\n",
            "32/32 [==============================] - 1s 44ms/step - loss: 0.1109 - accuracy: 0.9560 - val_loss: 0.4757 - val_accuracy: 0.8813\n",
            "Epoch 46/100\n",
            "32/32 [==============================] - 1s 44ms/step - loss: 0.0922 - accuracy: 0.9618 - val_loss: 0.6065 - val_accuracy: 0.8584\n",
            "Epoch 47/100\n",
            "32/32 [==============================] - 1s 37ms/step - loss: 0.1025 - accuracy: 0.9560 - val_loss: 0.7137 - val_accuracy: 0.8813\n",
            "Epoch 48/100\n",
            "32/32 [==============================] - 1s 36ms/step - loss: 0.0722 - accuracy: 0.9716 - val_loss: 0.6576 - val_accuracy: 0.8676\n",
            "Epoch 49/100\n",
            "32/32 [==============================] - 1s 39ms/step - loss: 0.0567 - accuracy: 0.9736 - val_loss: 0.7088 - val_accuracy: 0.8676\n",
            "Epoch 50/100\n",
            "32/32 [==============================] - 1s 40ms/step - loss: 0.0516 - accuracy: 0.9795 - val_loss: 0.8216 - val_accuracy: 0.8584\n",
            "Epoch 51/100\n",
            "32/32 [==============================] - 1s 35ms/step - loss: 0.1051 - accuracy: 0.9569 - val_loss: 0.5983 - val_accuracy: 0.8676\n",
            "Epoch 52/100\n",
            "32/32 [==============================] - 1s 36ms/step - loss: 0.1083 - accuracy: 0.9560 - val_loss: 0.5281 - val_accuracy: 0.8676\n",
            "Epoch 53/100\n",
            "32/32 [==============================] - 1s 35ms/step - loss: 0.0745 - accuracy: 0.9755 - val_loss: 0.6006 - val_accuracy: 0.8539\n",
            "Epoch 54/100\n",
            "32/32 [==============================] - 1s 36ms/step - loss: 0.0600 - accuracy: 0.9765 - val_loss: 0.6914 - val_accuracy: 0.8721\n",
            "Epoch 55/100\n",
            "32/32 [==============================] - 1s 36ms/step - loss: 0.0815 - accuracy: 0.9648 - val_loss: 0.7019 - val_accuracy: 0.8630\n",
            "Epoch 56/100\n",
            "32/32 [==============================] - 1s 36ms/step - loss: 0.0724 - accuracy: 0.9736 - val_loss: 0.6438 - val_accuracy: 0.8721\n",
            "Epoch 57/100\n",
            "32/32 [==============================] - 1s 36ms/step - loss: 0.0476 - accuracy: 0.9795 - val_loss: 0.8007 - val_accuracy: 0.8676\n",
            "Epoch 58/100\n",
            "32/32 [==============================] - 1s 36ms/step - loss: 0.0536 - accuracy: 0.9775 - val_loss: 0.7110 - val_accuracy: 0.8676\n",
            "Epoch 59/100\n",
            "32/32 [==============================] - 1s 41ms/step - loss: 0.0520 - accuracy: 0.9765 - val_loss: 0.8855 - val_accuracy: 0.8584\n",
            "Epoch 60/100\n",
            "32/32 [==============================] - 1s 46ms/step - loss: 0.0732 - accuracy: 0.9648 - val_loss: 0.7212 - val_accuracy: 0.8584\n",
            "Epoch 61/100\n",
            "32/32 [==============================] - 1s 44ms/step - loss: 0.0712 - accuracy: 0.9687 - val_loss: 0.6884 - val_accuracy: 0.8630\n",
            "Epoch 62/100\n",
            "32/32 [==============================] - 1s 44ms/step - loss: 0.0863 - accuracy: 0.9658 - val_loss: 0.6663 - val_accuracy: 0.8676\n",
            "Epoch 63/100\n",
            "32/32 [==============================] - 1s 45ms/step - loss: 0.0598 - accuracy: 0.9775 - val_loss: 0.6564 - val_accuracy: 0.8721\n",
            "Epoch 64/100\n",
            "32/32 [==============================] - 1s 46ms/step - loss: 0.0873 - accuracy: 0.9677 - val_loss: 0.6336 - val_accuracy: 0.8721\n",
            "Epoch 65/100\n",
            "32/32 [==============================] - 1s 46ms/step - loss: 0.0889 - accuracy: 0.9628 - val_loss: 0.6802 - val_accuracy: 0.8493\n",
            "Epoch 66/100\n",
            "32/32 [==============================] - 1s 45ms/step - loss: 0.0762 - accuracy: 0.9706 - val_loss: 0.7705 - val_accuracy: 0.8721\n",
            "Epoch 67/100\n",
            "32/32 [==============================] - 1s 37ms/step - loss: 0.0667 - accuracy: 0.9726 - val_loss: 0.6662 - val_accuracy: 0.8447\n",
            "Epoch 68/100\n",
            "32/32 [==============================] - 1s 36ms/step - loss: 0.1015 - accuracy: 0.9579 - val_loss: 0.5635 - val_accuracy: 0.8721\n",
            "Epoch 69/100\n",
            "32/32 [==============================] - 1s 36ms/step - loss: 0.0650 - accuracy: 0.9726 - val_loss: 0.7568 - val_accuracy: 0.8767\n",
            "Epoch 70/100\n",
            "32/32 [==============================] - 1s 36ms/step - loss: 0.0700 - accuracy: 0.9667 - val_loss: 0.8531 - val_accuracy: 0.8493\n",
            "Epoch 71/100\n",
            "32/32 [==============================] - 1s 36ms/step - loss: 0.1220 - accuracy: 0.9667 - val_loss: 0.9030 - val_accuracy: 0.8721\n",
            "Epoch 72/100\n",
            "32/32 [==============================] - 1s 36ms/step - loss: 0.1742 - accuracy: 0.9315 - val_loss: 0.4176 - val_accuracy: 0.8721\n",
            "Epoch 73/100\n",
            "32/32 [==============================] - 1s 42ms/step - loss: 0.0864 - accuracy: 0.9628 - val_loss: 0.5796 - val_accuracy: 0.8721\n",
            "Epoch 74/100\n",
            "32/32 [==============================] - 1s 44ms/step - loss: 0.0631 - accuracy: 0.9765 - val_loss: 0.6149 - val_accuracy: 0.8858\n",
            "Epoch 75/100\n",
            "32/32 [==============================] - 1s 36ms/step - loss: 0.0588 - accuracy: 0.9746 - val_loss: 0.7860 - val_accuracy: 0.8904\n",
            "Epoch 76/100\n",
            "32/32 [==============================] - 1s 35ms/step - loss: 0.0573 - accuracy: 0.9775 - val_loss: 0.7917 - val_accuracy: 0.8630\n",
            "Epoch 77/100\n",
            "32/32 [==============================] - 1s 40ms/step - loss: 0.0455 - accuracy: 0.9785 - val_loss: 0.8210 - val_accuracy: 0.8721\n",
            "Epoch 78/100\n",
            "32/32 [==============================] - 1s 38ms/step - loss: 0.0512 - accuracy: 0.9755 - val_loss: 0.8799 - val_accuracy: 0.8676\n",
            "Epoch 79/100\n",
            "32/32 [==============================] - 1s 43ms/step - loss: 0.0617 - accuracy: 0.9716 - val_loss: 0.8066 - val_accuracy: 0.8767\n",
            "Epoch 80/100\n",
            "32/32 [==============================] - 1s 36ms/step - loss: 0.0401 - accuracy: 0.9834 - val_loss: 1.0038 - val_accuracy: 0.8539\n",
            "Epoch 81/100\n",
            "32/32 [==============================] - 1s 36ms/step - loss: 0.0466 - accuracy: 0.9824 - val_loss: 0.8675 - val_accuracy: 0.8676\n",
            "Epoch 82/100\n",
            "32/32 [==============================] - 1s 37ms/step - loss: 0.0959 - accuracy: 0.9677 - val_loss: 0.7122 - val_accuracy: 0.8676\n",
            "Epoch 83/100\n",
            "32/32 [==============================] - 1s 36ms/step - loss: 0.0893 - accuracy: 0.9618 - val_loss: 0.7601 - val_accuracy: 0.8630\n",
            "Epoch 84/100\n",
            "32/32 [==============================] - 1s 43ms/step - loss: 0.0942 - accuracy: 0.9628 - val_loss: 0.7633 - val_accuracy: 0.8630\n",
            "Epoch 85/100\n",
            "32/32 [==============================] - 1s 42ms/step - loss: 0.0577 - accuracy: 0.9755 - val_loss: 0.7899 - val_accuracy: 0.8539\n",
            "Epoch 86/100\n",
            "32/32 [==============================] - 1s 41ms/step - loss: 0.0487 - accuracy: 0.9814 - val_loss: 0.7586 - val_accuracy: 0.8813\n",
            "Epoch 87/100\n",
            "32/32 [==============================] - 1s 39ms/step - loss: 0.0455 - accuracy: 0.9795 - val_loss: 0.9684 - val_accuracy: 0.8493\n",
            "Epoch 88/100\n",
            "32/32 [==============================] - 1s 36ms/step - loss: 0.0620 - accuracy: 0.9706 - val_loss: 1.0978 - val_accuracy: 0.8356\n",
            "Epoch 89/100\n",
            "32/32 [==============================] - 1s 35ms/step - loss: 0.0620 - accuracy: 0.9765 - val_loss: 0.7984 - val_accuracy: 0.8630\n",
            "Epoch 90/100\n",
            "32/32 [==============================] - 1s 36ms/step - loss: 0.0492 - accuracy: 0.9795 - val_loss: 0.8320 - val_accuracy: 0.8630\n",
            "Epoch 91/100\n",
            "32/32 [==============================] - 1s 36ms/step - loss: 0.0676 - accuracy: 0.9677 - val_loss: 0.8678 - val_accuracy: 0.8539\n",
            "Epoch 92/100\n",
            "32/32 [==============================] - 1s 41ms/step - loss: 0.0494 - accuracy: 0.9785 - val_loss: 0.9287 - val_accuracy: 0.8584\n",
            "Epoch 93/100\n",
            "32/32 [==============================] - 1s 43ms/step - loss: 0.0392 - accuracy: 0.9834 - val_loss: 1.0366 - val_accuracy: 0.8721\n",
            "Epoch 94/100\n",
            "32/32 [==============================] - 1s 37ms/step - loss: 0.0449 - accuracy: 0.9804 - val_loss: 1.0518 - val_accuracy: 0.8721\n",
            "Epoch 95/100\n",
            "32/32 [==============================] - 1s 41ms/step - loss: 0.0545 - accuracy: 0.9795 - val_loss: 1.0402 - val_accuracy: 0.8630\n",
            "Epoch 96/100\n",
            "32/32 [==============================] - 1s 36ms/step - loss: 0.0394 - accuracy: 0.9853 - val_loss: 1.1553 - val_accuracy: 0.8630\n",
            "Epoch 97/100\n",
            "32/32 [==============================] - 1s 36ms/step - loss: 0.0459 - accuracy: 0.9765 - val_loss: 1.0645 - val_accuracy: 0.8630\n",
            "Epoch 98/100\n",
            "32/32 [==============================] - 1s 36ms/step - loss: 0.0555 - accuracy: 0.9746 - val_loss: 1.0051 - val_accuracy: 0.8584\n",
            "Epoch 99/100\n",
            "32/32 [==============================] - 1s 46ms/step - loss: 0.0395 - accuracy: 0.9814 - val_loss: 1.0282 - val_accuracy: 0.8539\n",
            "Epoch 100/100\n",
            "32/32 [==============================] - 1s 40ms/step - loss: 0.0595 - accuracy: 0.9775 - val_loss: 0.9753 - val_accuracy: 0.8539\n"
          ]
        }
      ]
    },
    {
      "cell_type": "code",
      "metadata": {
        "colab": {
          "base_uri": "https://localhost:8080/",
          "height": 295
        },
        "id": "k_LAIKDry7df",
        "outputId": "709a54d7-9b03-4fd7-f87c-940b4b1bb95e"
      },
      "source": [
        "plt.title('Model two loss')\n",
        "plt.xlabel('Epochs')\n",
        "plt.ylabel('Loss')\n",
        "plt.plot(hist2.history['loss'])\n",
        "plt.plot(hist2.history['val_loss'])\n",
        "plt.legend(['Train','Val'], loc=\"upper right\")\n",
        "plt.show() #Overfit Confirmed with inflexion point of Epoch 20"
      ],
      "execution_count": null,
      "outputs": [
        {
          "output_type": "display_data",
          "data": {
            "image/png": "[encoded data removed]",
            "text/plain": [
              "<Figure size 432x288 with 1 Axes>"
            ]
          },
          "metadata": {
            "needs_background": "light"
          }
        }
      ]
    },
    {
      "cell_type": "code",
      "metadata": {
        "colab": {
          "base_uri": "https://localhost:8080/",
          "height": 295
        },
        "id": "RHJOSDNOzZVA",
        "outputId": "33432c0e-f595-48d2-a2b1-ce128f72288c"
      },
      "source": [
        "plt.plot(hist2.history['accuracy'])\n",
        "plt.plot(hist2.history['val_accuracy'])\n",
        "plt.title('Model accuracy')\n",
        "plt.ylabel('Accuracy')\n",
        "plt.xlabel('Epoch')\n",
        "plt.legend(['Train', 'Val'], loc='lower right')\n",
        "plt.show()"
      ],
      "execution_count": null,
      "outputs": [
        {
          "output_type": "display_data",
          "data": {
            "image/png": "[encoded data removed]",
            "text/plain": [
              "<Figure size 432x288 with 1 Axes>"
            ]
          },
          "metadata": {
            "needs_background": "light"
          }
        }
      ]
    },
    {
      "cell_type": "code",
      "metadata": {
        "id": "_L41P97e0ZRW"
      },
      "source": [
        "from keras.layers import Dropout\n",
        "from keras import regularizers"
      ],
      "execution_count": null,
      "outputs": []
    },
    {
      "cell_type": "code",
      "metadata": {
        "id": "U34YSe8q056o"
      },
      "source": [
        "model_3 = Sequential([\n",
        "    Dense(1000, activation='relu', kernel_regularizer=regularizers.l2(0.01), input_shape=(10,)), #Added L2 regularization\n",
        "    #This tells Keras to include the squared values of those parameters in our overall loss function, and weight them by 0.01 in the loss function.\n",
        "    Dropout(0.3), #neurons in the previous layer has a probability of 0.3 in dropping out during training\n",
        "    Dense(1000, activation='relu', kernel_regularizer=regularizers.l2(0.01)),\n",
        "    Dropout(0.3),\n",
        "    Dense(1000, activation='relu', kernel_regularizer=regularizers.l2(0.01)),\n",
        "    Dropout(0.3),\n",
        "    Dense(1000, activation='relu', kernel_regularizer=regularizers.l2(0.01)),\n",
        "    Dropout(0.3),\n",
        "    Dense(1, activation='sigmoid', kernel_regularizer=regularizers.l2(0.01)),\n",
        "])"
      ],
      "execution_count": null,
      "outputs": []
    },
    {
      "cell_type": "code",
      "metadata": {
        "colab": {
          "base_uri": "https://localhost:8080/"
        },
        "id": "iHCDA_wp2qgy",
        "outputId": "bdd9fdd6-bf0c-442a-9674-68d56052f7be"
      },
      "source": [
        "# model that survives overfittin using L2 regiularization and dropout\n",
        "model_3.compile(optimizer='adam',\n",
        "              loss='binary_crossentropy',\n",
        "              metrics=['accuracy'])\n",
        "hist_3 = model_3.fit(xtrain, ytrain,\n",
        "          batch_size=32, epochs=100,\n",
        "          validation_data=(xval, yval))"
      ],
      "execution_count": null,
      "outputs": [
        {
          "output_type": "stream",
          "name": "stdout",
          "text": [
            "Epoch 1/100\n",
            "32/32 [==============================] - 3s 53ms/step - loss: 14.2239 - accuracy: 0.6184 - val_loss: 3.8970 - val_accuracy: 0.7808\n",
            "Epoch 2/100\n",
            "32/32 [==============================] - 2s 61ms/step - loss: 1.6551 - accuracy: 0.8415 - val_loss: 0.6824 - val_accuracy: 0.8356\n",
            "Epoch 3/100\n",
            "32/32 [==============================] - 2s 62ms/step - loss: 0.5455 - accuracy: 0.8748 - val_loss: 0.6231 - val_accuracy: 0.8174\n",
            "Epoch 4/100\n",
            "32/32 [==============================] - 2s 49ms/step - loss: 0.5046 - accuracy: 0.8738 - val_loss: 0.5600 - val_accuracy: 0.8356\n",
            "Epoch 5/100\n",
            "32/32 [==============================] - 2s 61ms/step - loss: 0.4780 - accuracy: 0.8777 - val_loss: 0.5340 - val_accuracy: 0.8311\n",
            "Epoch 6/100\n",
            "32/32 [==============================] - 2s 62ms/step - loss: 0.4737 - accuracy: 0.8845 - val_loss: 0.4940 - val_accuracy: 0.8539\n",
            "Epoch 7/100\n",
            "32/32 [==============================] - 1s 45ms/step - loss: 0.4878 - accuracy: 0.8679 - val_loss: 0.5353 - val_accuracy: 0.8447\n",
            "Epoch 8/100\n",
            "32/32 [==============================] - 1s 45ms/step - loss: 0.4641 - accuracy: 0.8806 - val_loss: 0.4941 - val_accuracy: 0.8539\n",
            "Epoch 9/100\n",
            "32/32 [==============================] - 2s 60ms/step - loss: 0.4454 - accuracy: 0.8816 - val_loss: 0.5117 - val_accuracy: 0.8539\n",
            "Epoch 10/100\n",
            "32/32 [==============================] - 2s 60ms/step - loss: 0.4404 - accuracy: 0.8885 - val_loss: 0.4627 - val_accuracy: 0.8721\n",
            "Epoch 11/100\n",
            "32/32 [==============================] - 2s 61ms/step - loss: 0.4447 - accuracy: 0.8865 - val_loss: 0.5272 - val_accuracy: 0.8539\n",
            "Epoch 12/100\n",
            "32/32 [==============================] - 2s 62ms/step - loss: 0.4831 - accuracy: 0.8650 - val_loss: 0.4961 - val_accuracy: 0.8311\n",
            "Epoch 13/100\n",
            "32/32 [==============================] - 2s 50ms/step - loss: 0.4394 - accuracy: 0.8894 - val_loss: 0.4514 - val_accuracy: 0.8721\n",
            "Epoch 14/100\n",
            "32/32 [==============================] - 1s 45ms/step - loss: 0.4441 - accuracy: 0.8816 - val_loss: 0.4877 - val_accuracy: 0.8265\n",
            "Epoch 15/100\n",
            "32/32 [==============================] - 2s 55ms/step - loss: 0.4737 - accuracy: 0.8699 - val_loss: 0.4676 - val_accuracy: 0.8630\n",
            "Epoch 16/100\n",
            "32/32 [==============================] - 2s 52ms/step - loss: 0.4280 - accuracy: 0.8885 - val_loss: 0.4495 - val_accuracy: 0.8584\n",
            "Epoch 17/100\n",
            "32/32 [==============================] - 1s 47ms/step - loss: 0.4445 - accuracy: 0.8855 - val_loss: 0.4496 - val_accuracy: 0.8584\n",
            "Epoch 18/100\n",
            "32/32 [==============================] - 2s 60ms/step - loss: 0.4386 - accuracy: 0.8836 - val_loss: 0.4511 - val_accuracy: 0.8721\n",
            "Epoch 19/100\n",
            "32/32 [==============================] - 1s 45ms/step - loss: 0.4301 - accuracy: 0.8904 - val_loss: 0.4484 - val_accuracy: 0.8721\n",
            "Epoch 20/100\n",
            "32/32 [==============================] - 1s 46ms/step - loss: 0.4550 - accuracy: 0.8689 - val_loss: 0.4545 - val_accuracy: 0.8721\n",
            "Epoch 21/100\n",
            "32/32 [==============================] - 2s 50ms/step - loss: 0.4356 - accuracy: 0.8894 - val_loss: 0.4406 - val_accuracy: 0.8630\n",
            "Epoch 22/100\n",
            "32/32 [==============================] - 2s 62ms/step - loss: 0.4795 - accuracy: 0.8601 - val_loss: 0.4724 - val_accuracy: 0.8311\n",
            "Epoch 23/100\n",
            "32/32 [==============================] - 2s 58ms/step - loss: 0.4396 - accuracy: 0.8826 - val_loss: 0.4542 - val_accuracy: 0.8676\n",
            "Epoch 24/100\n",
            "32/32 [==============================] - 2s 55ms/step - loss: 0.4280 - accuracy: 0.8875 - val_loss: 0.4730 - val_accuracy: 0.8356\n",
            "Epoch 25/100\n",
            "32/32 [==============================] - 2s 60ms/step - loss: 0.4385 - accuracy: 0.8816 - val_loss: 0.4434 - val_accuracy: 0.8539\n",
            "Epoch 26/100\n",
            "32/32 [==============================] - 2s 55ms/step - loss: 0.4714 - accuracy: 0.8669 - val_loss: 0.4578 - val_accuracy: 0.8767\n",
            "Epoch 27/100\n",
            "32/32 [==============================] - 1s 46ms/step - loss: 0.4205 - accuracy: 0.9022 - val_loss: 0.4547 - val_accuracy: 0.8630\n",
            "Epoch 28/100\n",
            "32/32 [==============================] - 2s 53ms/step - loss: 0.4187 - accuracy: 0.8894 - val_loss: 0.4659 - val_accuracy: 0.8584\n",
            "Epoch 29/100\n",
            "32/32 [==============================] - 2s 62ms/step - loss: 0.4410 - accuracy: 0.8855 - val_loss: 0.4658 - val_accuracy: 0.8356\n",
            "Epoch 30/100\n",
            "32/32 [==============================] - 2s 62ms/step - loss: 0.4347 - accuracy: 0.8875 - val_loss: 0.4678 - val_accuracy: 0.8676\n",
            "Epoch 31/100\n",
            "32/32 [==============================] - 2s 57ms/step - loss: 0.4252 - accuracy: 0.8982 - val_loss: 0.4544 - val_accuracy: 0.8630\n",
            "Epoch 32/100\n",
            "32/32 [==============================] - 1s 47ms/step - loss: 0.4396 - accuracy: 0.8826 - val_loss: 0.4792 - val_accuracy: 0.8676\n",
            "Epoch 33/100\n",
            "32/32 [==============================] - 1s 46ms/step - loss: 0.4350 - accuracy: 0.8826 - val_loss: 0.4381 - val_accuracy: 0.8721\n",
            "Epoch 34/100\n",
            "32/32 [==============================] - 1s 46ms/step - loss: 0.4195 - accuracy: 0.8924 - val_loss: 0.4830 - val_accuracy: 0.8676\n",
            "Epoch 35/100\n",
            "32/32 [==============================] - 2s 49ms/step - loss: 0.4445 - accuracy: 0.8669 - val_loss: 0.4392 - val_accuracy: 0.8584\n",
            "Epoch 36/100\n",
            "32/32 [==============================] - 2s 53ms/step - loss: 0.4261 - accuracy: 0.8875 - val_loss: 0.4433 - val_accuracy: 0.8402\n",
            "Epoch 37/100\n",
            "32/32 [==============================] - 2s 62ms/step - loss: 0.4311 - accuracy: 0.8914 - val_loss: 0.4360 - val_accuracy: 0.8676\n",
            "Epoch 38/100\n",
            "32/32 [==============================] - 2s 60ms/step - loss: 0.4337 - accuracy: 0.8836 - val_loss: 0.5205 - val_accuracy: 0.8493\n",
            "Epoch 39/100\n",
            "32/32 [==============================] - 2s 47ms/step - loss: 0.4304 - accuracy: 0.8845 - val_loss: 0.4591 - val_accuracy: 0.8676\n",
            "Epoch 40/100\n",
            "32/32 [==============================] - 2s 51ms/step - loss: 0.4290 - accuracy: 0.8914 - val_loss: 0.4575 - val_accuracy: 0.8584\n",
            "Epoch 41/100\n",
            "32/32 [==============================] - 1s 46ms/step - loss: 0.4353 - accuracy: 0.8914 - val_loss: 0.4575 - val_accuracy: 0.8539\n",
            "Epoch 42/100\n",
            "32/32 [==============================] - 1s 44ms/step - loss: 0.4314 - accuracy: 0.8865 - val_loss: 0.4361 - val_accuracy: 0.8539\n",
            "Epoch 43/100\n",
            "32/32 [==============================] - 2s 56ms/step - loss: 0.4188 - accuracy: 0.8924 - val_loss: 0.5773 - val_accuracy: 0.8219\n",
            "Epoch 44/100\n",
            "32/32 [==============================] - 2s 59ms/step - loss: 0.4410 - accuracy: 0.8845 - val_loss: 0.4417 - val_accuracy: 0.8676\n",
            "Epoch 45/100\n",
            "32/32 [==============================] - 2s 53ms/step - loss: 0.4287 - accuracy: 0.8904 - val_loss: 0.4357 - val_accuracy: 0.8630\n",
            "Epoch 46/100\n",
            "32/32 [==============================] - 2s 47ms/step - loss: 0.4298 - accuracy: 0.8865 - val_loss: 0.4362 - val_accuracy: 0.8676\n",
            "Epoch 47/100\n",
            "32/32 [==============================] - 2s 47ms/step - loss: 0.4154 - accuracy: 0.8865 - val_loss: 0.4319 - val_accuracy: 0.8721\n",
            "Epoch 48/100\n",
            "32/32 [==============================] - 1s 46ms/step - loss: 0.4325 - accuracy: 0.8933 - val_loss: 0.4344 - val_accuracy: 0.8584\n",
            "Epoch 49/100\n",
            "32/32 [==============================] - 2s 55ms/step - loss: 0.4170 - accuracy: 0.8855 - val_loss: 0.4697 - val_accuracy: 0.8721\n",
            "Epoch 50/100\n",
            "32/32 [==============================] - 2s 56ms/step - loss: 0.4198 - accuracy: 0.8904 - val_loss: 0.4420 - val_accuracy: 0.8402\n",
            "Epoch 51/100\n",
            "32/32 [==============================] - 2s 55ms/step - loss: 0.4327 - accuracy: 0.8894 - val_loss: 0.4384 - val_accuracy: 0.8493\n",
            "Epoch 52/100\n",
            "32/32 [==============================] - 2s 57ms/step - loss: 0.4415 - accuracy: 0.8748 - val_loss: 0.4486 - val_accuracy: 0.8493\n",
            "Epoch 53/100\n",
            "32/32 [==============================] - 2s 64ms/step - loss: 0.4346 - accuracy: 0.8836 - val_loss: 0.4799 - val_accuracy: 0.8721\n",
            "Epoch 54/100\n",
            "32/32 [==============================] - 2s 61ms/step - loss: 0.4246 - accuracy: 0.8894 - val_loss: 0.4342 - val_accuracy: 0.8721\n",
            "Epoch 55/100\n",
            "32/32 [==============================] - 1s 46ms/step - loss: 0.4273 - accuracy: 0.8914 - val_loss: 0.4417 - val_accuracy: 0.8767\n",
            "Epoch 56/100\n",
            "32/32 [==============================] - 1s 45ms/step - loss: 0.4232 - accuracy: 0.8855 - val_loss: 0.4313 - val_accuracy: 0.8539\n",
            "Epoch 57/100\n",
            "32/32 [==============================] - 1s 45ms/step - loss: 0.4137 - accuracy: 0.8982 - val_loss: 0.4346 - val_accuracy: 0.8539\n",
            "Epoch 58/100\n",
            "32/32 [==============================] - 2s 54ms/step - loss: 0.4195 - accuracy: 0.8865 - val_loss: 0.4853 - val_accuracy: 0.8676\n",
            "Epoch 59/100\n",
            "32/32 [==============================] - 1s 46ms/step - loss: 0.4294 - accuracy: 0.8894 - val_loss: 0.4417 - val_accuracy: 0.8721\n",
            "Epoch 60/100\n",
            "32/32 [==============================] - 1s 46ms/step - loss: 0.4298 - accuracy: 0.8836 - val_loss: 0.4347 - val_accuracy: 0.8813\n",
            "Epoch 61/100\n",
            "32/32 [==============================] - 1s 46ms/step - loss: 0.4255 - accuracy: 0.8826 - val_loss: 0.4451 - val_accuracy: 0.8584\n",
            "Epoch 62/100\n",
            "32/32 [==============================] - 1s 46ms/step - loss: 0.4354 - accuracy: 0.8816 - val_loss: 0.4377 - val_accuracy: 0.8767\n",
            "Epoch 63/100\n",
            "32/32 [==============================] - 2s 47ms/step - loss: 0.4255 - accuracy: 0.8875 - val_loss: 0.4379 - val_accuracy: 0.8767\n",
            "Epoch 64/100\n",
            "32/32 [==============================] - 1s 47ms/step - loss: 0.4194 - accuracy: 0.8894 - val_loss: 0.4602 - val_accuracy: 0.8402\n",
            "Epoch 65/100\n",
            "32/32 [==============================] - 2s 61ms/step - loss: 0.4389 - accuracy: 0.8816 - val_loss: 0.4884 - val_accuracy: 0.8584\n",
            "Epoch 66/100\n",
            "32/32 [==============================] - 2s 62ms/step - loss: 0.4322 - accuracy: 0.8826 - val_loss: 0.4297 - val_accuracy: 0.8630\n",
            "Epoch 67/100\n",
            "32/32 [==============================] - 2s 62ms/step - loss: 0.4284 - accuracy: 0.8777 - val_loss: 0.4579 - val_accuracy: 0.8311\n",
            "Epoch 68/100\n",
            "32/32 [==============================] - 2s 48ms/step - loss: 0.4273 - accuracy: 0.8816 - val_loss: 0.4329 - val_accuracy: 0.8813\n",
            "Epoch 69/100\n",
            "32/32 [==============================] - 1s 46ms/step - loss: 0.4396 - accuracy: 0.8816 - val_loss: 0.4361 - val_accuracy: 0.8813\n",
            "Epoch 70/100\n",
            "32/32 [==============================] - 1s 46ms/step - loss: 0.4162 - accuracy: 0.8943 - val_loss: 0.4433 - val_accuracy: 0.8676\n",
            "Epoch 71/100\n",
            "32/32 [==============================] - 1s 46ms/step - loss: 0.4202 - accuracy: 0.8894 - val_loss: 0.4319 - val_accuracy: 0.8767\n",
            "Epoch 72/100\n",
            "32/32 [==============================] - 2s 56ms/step - loss: 0.4233 - accuracy: 0.8914 - val_loss: 0.4346 - val_accuracy: 0.8767\n",
            "Epoch 73/100\n",
            "32/32 [==============================] - 2s 63ms/step - loss: 0.4283 - accuracy: 0.8904 - val_loss: 0.4313 - val_accuracy: 0.8539\n",
            "Epoch 74/100\n",
            "32/32 [==============================] - 2s 54ms/step - loss: 0.4246 - accuracy: 0.8836 - val_loss: 0.4502 - val_accuracy: 0.8584\n",
            "Epoch 75/100\n",
            "32/32 [==============================] - 1s 46ms/step - loss: 0.4234 - accuracy: 0.8943 - val_loss: 0.4387 - val_accuracy: 0.8676\n",
            "Epoch 76/100\n",
            "32/32 [==============================] - 2s 54ms/step - loss: 0.4387 - accuracy: 0.8855 - val_loss: 0.4432 - val_accuracy: 0.8767\n",
            "Epoch 77/100\n",
            "32/32 [==============================] - 2s 56ms/step - loss: 0.4256 - accuracy: 0.8855 - val_loss: 0.4312 - val_accuracy: 0.8676\n",
            "Epoch 78/100\n",
            "32/32 [==============================] - 2s 54ms/step - loss: 0.4254 - accuracy: 0.8924 - val_loss: 0.4311 - val_accuracy: 0.8539\n",
            "Epoch 79/100\n",
            "32/32 [==============================] - 2s 55ms/step - loss: 0.4299 - accuracy: 0.8806 - val_loss: 0.4328 - val_accuracy: 0.8676\n",
            "Epoch 80/100\n",
            "32/32 [==============================] - 1s 47ms/step - loss: 0.4338 - accuracy: 0.8826 - val_loss: 0.4692 - val_accuracy: 0.8767\n",
            "Epoch 81/100\n",
            "32/32 [==============================] - 2s 47ms/step - loss: 0.4090 - accuracy: 0.8973 - val_loss: 0.4452 - val_accuracy: 0.8630\n",
            "Epoch 82/100\n",
            "32/32 [==============================] - 2s 56ms/step - loss: 0.4183 - accuracy: 0.8845 - val_loss: 0.4358 - val_accuracy: 0.8721\n",
            "Epoch 83/100\n",
            "32/32 [==============================] - 2s 52ms/step - loss: 0.4217 - accuracy: 0.8924 - val_loss: 0.4305 - val_accuracy: 0.8584\n",
            "Epoch 84/100\n",
            "32/32 [==============================] - 2s 53ms/step - loss: 0.4241 - accuracy: 0.8875 - val_loss: 0.4343 - val_accuracy: 0.8767\n",
            "Epoch 85/100\n",
            "32/32 [==============================] - 2s 63ms/step - loss: 0.4549 - accuracy: 0.8875 - val_loss: 0.5101 - val_accuracy: 0.8493\n",
            "Epoch 86/100\n",
            "32/32 [==============================] - 2s 53ms/step - loss: 0.4445 - accuracy: 0.8836 - val_loss: 0.4598 - val_accuracy: 0.8721\n",
            "Epoch 87/100\n",
            "32/32 [==============================] - 2s 50ms/step - loss: 0.4184 - accuracy: 0.8963 - val_loss: 0.4754 - val_accuracy: 0.8721\n",
            "Epoch 88/100\n",
            "32/32 [==============================] - 2s 53ms/step - loss: 0.4212 - accuracy: 0.8865 - val_loss: 0.4310 - val_accuracy: 0.8767\n",
            "Epoch 89/100\n",
            "32/32 [==============================] - 2s 51ms/step - loss: 0.4364 - accuracy: 0.8787 - val_loss: 0.4511 - val_accuracy: 0.8402\n",
            "Epoch 90/100\n",
            "32/32 [==============================] - 2s 51ms/step - loss: 0.4233 - accuracy: 0.8904 - val_loss: 0.4326 - val_accuracy: 0.8767\n",
            "Epoch 91/100\n",
            "32/32 [==============================] - 2s 52ms/step - loss: 0.4197 - accuracy: 0.8855 - val_loss: 0.4325 - val_accuracy: 0.8584\n",
            "Epoch 92/100\n",
            "32/32 [==============================] - 1s 47ms/step - loss: 0.4213 - accuracy: 0.8796 - val_loss: 0.4612 - val_accuracy: 0.8311\n",
            "Epoch 93/100\n",
            "32/32 [==============================] - 2s 47ms/step - loss: 0.4417 - accuracy: 0.8748 - val_loss: 0.4824 - val_accuracy: 0.8402\n",
            "Epoch 94/100\n",
            "32/32 [==============================] - 2s 55ms/step - loss: 0.4536 - accuracy: 0.8650 - val_loss: 0.4362 - val_accuracy: 0.8676\n",
            "Epoch 95/100\n",
            "32/32 [==============================] - 2s 48ms/step - loss: 0.4153 - accuracy: 0.8777 - val_loss: 0.5184 - val_accuracy: 0.8539\n",
            "Epoch 96/100\n",
            "32/32 [==============================] - 2s 62ms/step - loss: 0.4232 - accuracy: 0.8933 - val_loss: 0.4310 - val_accuracy: 0.8813\n",
            "Epoch 97/100\n",
            "32/32 [==============================] - 2s 62ms/step - loss: 0.4208 - accuracy: 0.8845 - val_loss: 0.4290 - val_accuracy: 0.8584\n",
            "Epoch 98/100\n",
            "32/32 [==============================] - 2s 51ms/step - loss: 0.4336 - accuracy: 0.8875 - val_loss: 0.4400 - val_accuracy: 0.8721\n",
            "Epoch 99/100\n",
            "32/32 [==============================] - 2s 63ms/step - loss: 0.4268 - accuracy: 0.8943 - val_loss: 0.4350 - val_accuracy: 0.8813\n",
            "Epoch 100/100\n",
            "32/32 [==============================] - 2s 64ms/step - loss: 0.4292 - accuracy: 0.8806 - val_loss: 0.4563 - val_accuracy: 0.8767\n"
          ]
        }
      ]
    },
    {
      "cell_type": "code",
      "metadata": {
        "colab": {
          "base_uri": "https://localhost:8080/",
          "height": 295
        },
        "id": "8Wx6-R_D2rjc",
        "outputId": "911b94cc-6a82-439a-c0b0-36a3dea84a43"
      },
      "source": [
        "plt.plot(hist_3.history['loss'])\n",
        "plt.plot(hist_3.history['val_loss'])\n",
        "plt.title('Model loss')\n",
        "plt.ylabel('Loss')\n",
        "plt.xlabel('Epoch')\n",
        "plt.legend(['Train', 'Val'], loc='upper right')\n",
        "plt.ylim(top=1.2, bottom=0) #window is zoomed in between 0 and 1.2 for the loss\n",
        "plt.show()"
      ],
      "execution_count": null,
      "outputs": [
        {
          "output_type": "display_data",
          "data": {
            "image/png": "[encoded data removed]",
            "text/plain": [
              "<Figure size 432x288 with 1 Axes>"
            ]
          },
          "metadata": {
            "needs_background": "light"
          }
        }
      ]
    },
    {
      "cell_type": "code",
      "metadata": {
        "colab": {
          "base_uri": "https://localhost:8080/",
          "height": 295
        },
        "id": "LG0PLz923E0b",
        "outputId": "ea6fbf61-fc23-45a2-d475-fcf13a982598"
      },
      "source": [
        "plt.plot(hist_3.history['accuracy'])\n",
        "plt.plot(hist_3.history['val_accuracy'])\n",
        "plt.title('Model Accuracy')\n",
        "plt.ylabel('Accuracy')\n",
        "plt.xlabel('Epoch')\n",
        "plt.legend(['Train', 'Val'], loc='upper right')\n",
        "plt.ylim(top=1.2, bottom=0) #window is zoomed in between 0 and 1.2 for the loss\n",
        "plt.show()"
      ],
      "execution_count": null,
      "outputs": [
        {
          "output_type": "display_data",
          "data": {
            "image/png": "[encoded data removed]",
            "text/plain": [
              "<Figure size 432x288 with 1 Axes>"
            ]
          },
          "metadata": {
            "needs_background": "light"
          }
        }
      ]
    },
    {
      "cell_type": "code",
      "metadata": {
        "id": "0cOiC5MY3wAr"
      },
      "source": [
        ""
      ],
      "execution_count": null,
      "outputs": []
    }
  ]
}